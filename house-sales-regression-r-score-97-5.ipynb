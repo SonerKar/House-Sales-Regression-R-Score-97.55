{
 "cells": [
  {
   "cell_type": "markdown",
   "id": "incident-atmosphere",
   "metadata": {
    "papermill": {
     "duration": 0.041456,
     "end_time": "2022-02-10T16:50:10.398321",
     "exception": false,
     "start_time": "2022-02-10T16:50:10.356865",
     "status": "completed"
    },
    "tags": []
   },
   "source": [
    " <h1 style=\"background-color:white\n",
    ";font-family:Arial Black;font-size:225%;text-align:center;border-radius: 15px 50px;\">  🏘️ House Sales Regression 🏘️  </h1><a id=0></a>\n",
    "\n",
    "# ![](https://media.giphy.com/media/l0IylQoMkcbZUbtKw/giphy.gif)"
   ]
  },
  {
   "cell_type": "markdown",
   "id": "stuffed-nevada",
   "metadata": {
    "papermill": {
     "duration": 0.039001,
     "end_time": "2022-02-10T16:50:10.477013",
     "exception": false,
     "start_time": "2022-02-10T16:50:10.438012",
     "status": "completed"
    },
    "tags": []
   },
   "source": [
    "<font color = '#F08841'>\n",
    "Content:\n",
    "    \n",
    "1. [Loading and Checking Data](#1)\n",
    "1. [Data Preprocessing](#2)\n",
    "1. [Creating Models](#3)\n",
    "    *          [Linear Regression ](#4)\n",
    "    *          [Polynomial Regression ](#5)\n",
    "    *          [SVR (Support Vector Regression) ](#6)\n",
    "    *          [Decision Tree  ](#7)\n",
    "    *          [Random Forest ](#8)\n",
    "1. [Conclusion](#9)\n",
    "1. [A Little Note](#10)"
   ]
  },
  {
   "cell_type": "code",
   "execution_count": 1,
   "id": "blind-township",
   "metadata": {
    "execution": {
     "iopub.execute_input": "2022-02-10T16:50:10.561756Z",
     "iopub.status.busy": "2022-02-10T16:50:10.560504Z",
     "iopub.status.idle": "2022-02-10T16:50:12.136238Z",
     "shell.execute_reply": "2022-02-10T16:50:12.134965Z",
     "shell.execute_reply.started": "2021-06-23T16:36:18.596982Z"
    },
    "papermill": {
     "duration": 1.619055,
     "end_time": "2022-02-10T16:50:12.136475",
     "exception": false,
     "start_time": "2022-02-10T16:50:10.517420",
     "status": "completed"
    },
    "tags": []
   },
   "outputs": [],
   "source": [
    "import numpy as np\n",
    "import pandas as pd\n",
    "import matplotlib.pyplot as plt\n",
    "import seaborn as sns\n",
    "import statsmodels.api as sm"
   ]
  },
  {
   "cell_type": "markdown",
   "id": "tropical-engineering",
   "metadata": {
    "papermill": {
     "duration": 0.040277,
     "end_time": "2022-02-10T16:50:12.217933",
     "exception": false,
     "start_time": "2022-02-10T16:50:12.177656",
     "status": "completed"
    },
    "tags": []
   },
   "source": [
    " <a id = \"1\"></a><br>\n",
    " # Loading and Checking Data"
   ]
  },
  {
   "cell_type": "code",
   "execution_count": 2,
   "id": "consistent-employer",
   "metadata": {
    "execution": {
     "iopub.execute_input": "2022-02-10T16:50:12.301245Z",
     "iopub.status.busy": "2022-02-10T16:50:12.300566Z",
     "iopub.status.idle": "2022-02-10T16:50:12.458392Z",
     "shell.execute_reply": "2022-02-10T16:50:12.458878Z",
     "shell.execute_reply.started": "2021-06-23T16:36:20.547565Z"
    },
    "papermill": {
     "duration": 0.200811,
     "end_time": "2022-02-10T16:50:12.459058",
     "exception": false,
     "start_time": "2022-02-10T16:50:12.258247",
     "status": "completed"
    },
    "tags": []
   },
   "outputs": [
    {
     "data": {
      "text/html": [
       "<div>\n",
       "<style scoped>\n",
       "    .dataframe tbody tr th:only-of-type {\n",
       "        vertical-align: middle;\n",
       "    }\n",
       "\n",
       "    .dataframe tbody tr th {\n",
       "        vertical-align: top;\n",
       "    }\n",
       "\n",
       "    .dataframe thead th {\n",
       "        text-align: right;\n",
       "    }\n",
       "</style>\n",
       "<table border=\"1\" class=\"dataframe\">\n",
       "  <thead>\n",
       "    <tr style=\"text-align: right;\">\n",
       "      <th></th>\n",
       "      <th>id</th>\n",
       "      <th>date</th>\n",
       "      <th>price</th>\n",
       "      <th>bedrooms</th>\n",
       "      <th>bathrooms</th>\n",
       "      <th>sqft_living</th>\n",
       "      <th>sqft_lot</th>\n",
       "      <th>floors</th>\n",
       "      <th>waterfront</th>\n",
       "      <th>view</th>\n",
       "      <th>...</th>\n",
       "      <th>grade</th>\n",
       "      <th>sqft_above</th>\n",
       "      <th>sqft_basement</th>\n",
       "      <th>yr_built</th>\n",
       "      <th>yr_renovated</th>\n",
       "      <th>zipcode</th>\n",
       "      <th>lat</th>\n",
       "      <th>long</th>\n",
       "      <th>sqft_living15</th>\n",
       "      <th>sqft_lot15</th>\n",
       "    </tr>\n",
       "  </thead>\n",
       "  <tbody>\n",
       "    <tr>\n",
       "      <th>0</th>\n",
       "      <td>7129300520</td>\n",
       "      <td>20141013T000000</td>\n",
       "      <td>221900.0</td>\n",
       "      <td>3</td>\n",
       "      <td>1.00</td>\n",
       "      <td>1180</td>\n",
       "      <td>5650</td>\n",
       "      <td>1.0</td>\n",
       "      <td>0</td>\n",
       "      <td>0</td>\n",
       "      <td>...</td>\n",
       "      <td>7</td>\n",
       "      <td>1180</td>\n",
       "      <td>0</td>\n",
       "      <td>1955</td>\n",
       "      <td>0</td>\n",
       "      <td>98178</td>\n",
       "      <td>47.5112</td>\n",
       "      <td>-122.257</td>\n",
       "      <td>1340</td>\n",
       "      <td>5650</td>\n",
       "    </tr>\n",
       "    <tr>\n",
       "      <th>1</th>\n",
       "      <td>6414100192</td>\n",
       "      <td>20141209T000000</td>\n",
       "      <td>538000.0</td>\n",
       "      <td>3</td>\n",
       "      <td>2.25</td>\n",
       "      <td>2570</td>\n",
       "      <td>7242</td>\n",
       "      <td>2.0</td>\n",
       "      <td>0</td>\n",
       "      <td>0</td>\n",
       "      <td>...</td>\n",
       "      <td>7</td>\n",
       "      <td>2170</td>\n",
       "      <td>400</td>\n",
       "      <td>1951</td>\n",
       "      <td>1991</td>\n",
       "      <td>98125</td>\n",
       "      <td>47.7210</td>\n",
       "      <td>-122.319</td>\n",
       "      <td>1690</td>\n",
       "      <td>7639</td>\n",
       "    </tr>\n",
       "    <tr>\n",
       "      <th>2</th>\n",
       "      <td>5631500400</td>\n",
       "      <td>20150225T000000</td>\n",
       "      <td>180000.0</td>\n",
       "      <td>2</td>\n",
       "      <td>1.00</td>\n",
       "      <td>770</td>\n",
       "      <td>10000</td>\n",
       "      <td>1.0</td>\n",
       "      <td>0</td>\n",
       "      <td>0</td>\n",
       "      <td>...</td>\n",
       "      <td>6</td>\n",
       "      <td>770</td>\n",
       "      <td>0</td>\n",
       "      <td>1933</td>\n",
       "      <td>0</td>\n",
       "      <td>98028</td>\n",
       "      <td>47.7379</td>\n",
       "      <td>-122.233</td>\n",
       "      <td>2720</td>\n",
       "      <td>8062</td>\n",
       "    </tr>\n",
       "    <tr>\n",
       "      <th>3</th>\n",
       "      <td>2487200875</td>\n",
       "      <td>20141209T000000</td>\n",
       "      <td>604000.0</td>\n",
       "      <td>4</td>\n",
       "      <td>3.00</td>\n",
       "      <td>1960</td>\n",
       "      <td>5000</td>\n",
       "      <td>1.0</td>\n",
       "      <td>0</td>\n",
       "      <td>0</td>\n",
       "      <td>...</td>\n",
       "      <td>7</td>\n",
       "      <td>1050</td>\n",
       "      <td>910</td>\n",
       "      <td>1965</td>\n",
       "      <td>0</td>\n",
       "      <td>98136</td>\n",
       "      <td>47.5208</td>\n",
       "      <td>-122.393</td>\n",
       "      <td>1360</td>\n",
       "      <td>5000</td>\n",
       "    </tr>\n",
       "    <tr>\n",
       "      <th>4</th>\n",
       "      <td>1954400510</td>\n",
       "      <td>20150218T000000</td>\n",
       "      <td>510000.0</td>\n",
       "      <td>3</td>\n",
       "      <td>2.00</td>\n",
       "      <td>1680</td>\n",
       "      <td>8080</td>\n",
       "      <td>1.0</td>\n",
       "      <td>0</td>\n",
       "      <td>0</td>\n",
       "      <td>...</td>\n",
       "      <td>8</td>\n",
       "      <td>1680</td>\n",
       "      <td>0</td>\n",
       "      <td>1987</td>\n",
       "      <td>0</td>\n",
       "      <td>98074</td>\n",
       "      <td>47.6168</td>\n",
       "      <td>-122.045</td>\n",
       "      <td>1800</td>\n",
       "      <td>7503</td>\n",
       "    </tr>\n",
       "    <tr>\n",
       "      <th>5</th>\n",
       "      <td>7237550310</td>\n",
       "      <td>20140512T000000</td>\n",
       "      <td>1225000.0</td>\n",
       "      <td>4</td>\n",
       "      <td>4.50</td>\n",
       "      <td>5420</td>\n",
       "      <td>101930</td>\n",
       "      <td>1.0</td>\n",
       "      <td>0</td>\n",
       "      <td>0</td>\n",
       "      <td>...</td>\n",
       "      <td>11</td>\n",
       "      <td>3890</td>\n",
       "      <td>1530</td>\n",
       "      <td>2001</td>\n",
       "      <td>0</td>\n",
       "      <td>98053</td>\n",
       "      <td>47.6561</td>\n",
       "      <td>-122.005</td>\n",
       "      <td>4760</td>\n",
       "      <td>101930</td>\n",
       "    </tr>\n",
       "    <tr>\n",
       "      <th>6</th>\n",
       "      <td>1321400060</td>\n",
       "      <td>20140627T000000</td>\n",
       "      <td>257500.0</td>\n",
       "      <td>3</td>\n",
       "      <td>2.25</td>\n",
       "      <td>1715</td>\n",
       "      <td>6819</td>\n",
       "      <td>2.0</td>\n",
       "      <td>0</td>\n",
       "      <td>0</td>\n",
       "      <td>...</td>\n",
       "      <td>7</td>\n",
       "      <td>1715</td>\n",
       "      <td>0</td>\n",
       "      <td>1995</td>\n",
       "      <td>0</td>\n",
       "      <td>98003</td>\n",
       "      <td>47.3097</td>\n",
       "      <td>-122.327</td>\n",
       "      <td>2238</td>\n",
       "      <td>6819</td>\n",
       "    </tr>\n",
       "    <tr>\n",
       "      <th>7</th>\n",
       "      <td>2008000270</td>\n",
       "      <td>20150115T000000</td>\n",
       "      <td>291850.0</td>\n",
       "      <td>3</td>\n",
       "      <td>1.50</td>\n",
       "      <td>1060</td>\n",
       "      <td>9711</td>\n",
       "      <td>1.0</td>\n",
       "      <td>0</td>\n",
       "      <td>0</td>\n",
       "      <td>...</td>\n",
       "      <td>7</td>\n",
       "      <td>1060</td>\n",
       "      <td>0</td>\n",
       "      <td>1963</td>\n",
       "      <td>0</td>\n",
       "      <td>98198</td>\n",
       "      <td>47.4095</td>\n",
       "      <td>-122.315</td>\n",
       "      <td>1650</td>\n",
       "      <td>9711</td>\n",
       "    </tr>\n",
       "    <tr>\n",
       "      <th>8</th>\n",
       "      <td>2414600126</td>\n",
       "      <td>20150415T000000</td>\n",
       "      <td>229500.0</td>\n",
       "      <td>3</td>\n",
       "      <td>1.00</td>\n",
       "      <td>1780</td>\n",
       "      <td>7470</td>\n",
       "      <td>1.0</td>\n",
       "      <td>0</td>\n",
       "      <td>0</td>\n",
       "      <td>...</td>\n",
       "      <td>7</td>\n",
       "      <td>1050</td>\n",
       "      <td>730</td>\n",
       "      <td>1960</td>\n",
       "      <td>0</td>\n",
       "      <td>98146</td>\n",
       "      <td>47.5123</td>\n",
       "      <td>-122.337</td>\n",
       "      <td>1780</td>\n",
       "      <td>8113</td>\n",
       "    </tr>\n",
       "    <tr>\n",
       "      <th>9</th>\n",
       "      <td>3793500160</td>\n",
       "      <td>20150312T000000</td>\n",
       "      <td>323000.0</td>\n",
       "      <td>3</td>\n",
       "      <td>2.50</td>\n",
       "      <td>1890</td>\n",
       "      <td>6560</td>\n",
       "      <td>2.0</td>\n",
       "      <td>0</td>\n",
       "      <td>0</td>\n",
       "      <td>...</td>\n",
       "      <td>7</td>\n",
       "      <td>1890</td>\n",
       "      <td>0</td>\n",
       "      <td>2003</td>\n",
       "      <td>0</td>\n",
       "      <td>98038</td>\n",
       "      <td>47.3684</td>\n",
       "      <td>-122.031</td>\n",
       "      <td>2390</td>\n",
       "      <td>7570</td>\n",
       "    </tr>\n",
       "  </tbody>\n",
       "</table>\n",
       "<p>10 rows × 21 columns</p>\n",
       "</div>"
      ],
      "text/plain": [
       "           id             date      price  bedrooms  bathrooms  sqft_living  \\\n",
       "0  7129300520  20141013T000000   221900.0         3       1.00         1180   \n",
       "1  6414100192  20141209T000000   538000.0         3       2.25         2570   \n",
       "2  5631500400  20150225T000000   180000.0         2       1.00          770   \n",
       "3  2487200875  20141209T000000   604000.0         4       3.00         1960   \n",
       "4  1954400510  20150218T000000   510000.0         3       2.00         1680   \n",
       "5  7237550310  20140512T000000  1225000.0         4       4.50         5420   \n",
       "6  1321400060  20140627T000000   257500.0         3       2.25         1715   \n",
       "7  2008000270  20150115T000000   291850.0         3       1.50         1060   \n",
       "8  2414600126  20150415T000000   229500.0         3       1.00         1780   \n",
       "9  3793500160  20150312T000000   323000.0         3       2.50         1890   \n",
       "\n",
       "   sqft_lot  floors  waterfront  view  ...  grade  sqft_above  sqft_basement  \\\n",
       "0      5650     1.0           0     0  ...      7        1180              0   \n",
       "1      7242     2.0           0     0  ...      7        2170            400   \n",
       "2     10000     1.0           0     0  ...      6         770              0   \n",
       "3      5000     1.0           0     0  ...      7        1050            910   \n",
       "4      8080     1.0           0     0  ...      8        1680              0   \n",
       "5    101930     1.0           0     0  ...     11        3890           1530   \n",
       "6      6819     2.0           0     0  ...      7        1715              0   \n",
       "7      9711     1.0           0     0  ...      7        1060              0   \n",
       "8      7470     1.0           0     0  ...      7        1050            730   \n",
       "9      6560     2.0           0     0  ...      7        1890              0   \n",
       "\n",
       "   yr_built  yr_renovated  zipcode      lat     long  sqft_living15  \\\n",
       "0      1955             0    98178  47.5112 -122.257           1340   \n",
       "1      1951          1991    98125  47.7210 -122.319           1690   \n",
       "2      1933             0    98028  47.7379 -122.233           2720   \n",
       "3      1965             0    98136  47.5208 -122.393           1360   \n",
       "4      1987             0    98074  47.6168 -122.045           1800   \n",
       "5      2001             0    98053  47.6561 -122.005           4760   \n",
       "6      1995             0    98003  47.3097 -122.327           2238   \n",
       "7      1963             0    98198  47.4095 -122.315           1650   \n",
       "8      1960             0    98146  47.5123 -122.337           1780   \n",
       "9      2003             0    98038  47.3684 -122.031           2390   \n",
       "\n",
       "   sqft_lot15  \n",
       "0        5650  \n",
       "1        7639  \n",
       "2        8062  \n",
       "3        5000  \n",
       "4        7503  \n",
       "5      101930  \n",
       "6        6819  \n",
       "7        9711  \n",
       "8        8113  \n",
       "9        7570  \n",
       "\n",
       "[10 rows x 21 columns]"
      ]
     },
     "execution_count": 2,
     "metadata": {},
     "output_type": "execute_result"
    }
   ],
   "source": [
    "df = pd.read_csv('../input/housesalesprediction/kc_house_data.csv')\n",
    "df.head(10)"
   ]
  },
  {
   "cell_type": "markdown",
   "id": "virgin-shanghai",
   "metadata": {
    "papermill": {
     "duration": 0.041479,
     "end_time": "2022-02-10T16:50:12.543050",
     "exception": false,
     "start_time": "2022-02-10T16:50:12.501571",
     "status": "completed"
    },
    "tags": []
   },
   "source": [
    "There is  an 'id' column. In data preprocessing, I will drop it because the id column does not positively affect model."
   ]
  },
  {
   "cell_type": "code",
   "execution_count": 3,
   "id": "joint-lindsay",
   "metadata": {
    "execution": {
     "iopub.execute_input": "2022-02-10T16:50:12.626408Z",
     "iopub.status.busy": "2022-02-10T16:50:12.625743Z",
     "iopub.status.idle": "2022-02-10T16:50:12.652244Z",
     "shell.execute_reply": "2022-02-10T16:50:12.653204Z",
     "shell.execute_reply.started": "2021-06-23T16:36:20.705654Z"
    },
    "papermill": {
     "duration": 0.070378,
     "end_time": "2022-02-10T16:50:12.653574",
     "exception": false,
     "start_time": "2022-02-10T16:50:12.583196",
     "status": "completed"
    },
    "tags": []
   },
   "outputs": [
    {
     "name": "stdout",
     "output_type": "stream",
     "text": [
      "<class 'pandas.core.frame.DataFrame'>\n",
      "RangeIndex: 21613 entries, 0 to 21612\n",
      "Data columns (total 21 columns):\n",
      " #   Column         Non-Null Count  Dtype  \n",
      "---  ------         --------------  -----  \n",
      " 0   id             21613 non-null  int64  \n",
      " 1   date           21613 non-null  object \n",
      " 2   price          21613 non-null  float64\n",
      " 3   bedrooms       21613 non-null  int64  \n",
      " 4   bathrooms      21613 non-null  float64\n",
      " 5   sqft_living    21613 non-null  int64  \n",
      " 6   sqft_lot       21613 non-null  int64  \n",
      " 7   floors         21613 non-null  float64\n",
      " 8   waterfront     21613 non-null  int64  \n",
      " 9   view           21613 non-null  int64  \n",
      " 10  condition      21613 non-null  int64  \n",
      " 11  grade          21613 non-null  int64  \n",
      " 12  sqft_above     21613 non-null  int64  \n",
      " 13  sqft_basement  21613 non-null  int64  \n",
      " 14  yr_built       21613 non-null  int64  \n",
      " 15  yr_renovated   21613 non-null  int64  \n",
      " 16  zipcode        21613 non-null  int64  \n",
      " 17  lat            21613 non-null  float64\n",
      " 18  long           21613 non-null  float64\n",
      " 19  sqft_living15  21613 non-null  int64  \n",
      " 20  sqft_lot15     21613 non-null  int64  \n",
      "dtypes: float64(5), int64(15), object(1)\n",
      "memory usage: 3.5+ MB\n"
     ]
    }
   ],
   "source": [
    "df.info()"
   ]
  },
  {
   "cell_type": "code",
   "execution_count": 4,
   "id": "delayed-cholesterol",
   "metadata": {
    "execution": {
     "iopub.execute_input": "2022-02-10T16:50:12.739213Z",
     "iopub.status.busy": "2022-02-10T16:50:12.738604Z",
     "iopub.status.idle": "2022-02-10T16:50:12.749363Z",
     "shell.execute_reply": "2022-02-10T16:50:12.749974Z",
     "shell.execute_reply.started": "2021-06-23T16:36:20.734774Z"
    },
    "papermill": {
     "duration": 0.054534,
     "end_time": "2022-02-10T16:50:12.750146",
     "exception": false,
     "start_time": "2022-02-10T16:50:12.695612",
     "status": "completed"
    },
    "tags": []
   },
   "outputs": [
    {
     "data": {
      "text/plain": [
       "id               0\n",
       "date             0\n",
       "price            0\n",
       "bedrooms         0\n",
       "bathrooms        0\n",
       "sqft_living      0\n",
       "sqft_lot         0\n",
       "floors           0\n",
       "waterfront       0\n",
       "view             0\n",
       "condition        0\n",
       "grade            0\n",
       "sqft_above       0\n",
       "sqft_basement    0\n",
       "yr_built         0\n",
       "yr_renovated     0\n",
       "zipcode          0\n",
       "lat              0\n",
       "long             0\n",
       "sqft_living15    0\n",
       "sqft_lot15       0\n",
       "dtype: int64"
      ]
     },
     "execution_count": 4,
     "metadata": {},
     "output_type": "execute_result"
    }
   ],
   "source": [
    "df.isnull().sum()"
   ]
  },
  {
   "cell_type": "markdown",
   "id": "steady-india",
   "metadata": {
    "papermill": {
     "duration": 0.041073,
     "end_time": "2022-02-10T16:50:12.832884",
     "exception": false,
     "start_time": "2022-02-10T16:50:12.791811",
     "status": "completed"
    },
    "tags": []
   },
   "source": [
    "There is no null data, good."
   ]
  },
  {
   "cell_type": "code",
   "execution_count": 5,
   "id": "seasonal-progressive",
   "metadata": {
    "execution": {
     "iopub.execute_input": "2022-02-10T16:50:12.923983Z",
     "iopub.status.busy": "2022-02-10T16:50:12.923256Z",
     "iopub.status.idle": "2022-02-10T16:50:13.015448Z",
     "shell.execute_reply": "2022-02-10T16:50:13.014688Z",
     "shell.execute_reply.started": "2021-06-23T16:36:20.749116Z"
    },
    "papermill": {
     "duration": 0.14064,
     "end_time": "2022-02-10T16:50:13.015601",
     "exception": false,
     "start_time": "2022-02-10T16:50:12.874961",
     "status": "completed"
    },
    "tags": []
   },
   "outputs": [
    {
     "data": {
      "text/html": [
       "<div>\n",
       "<style scoped>\n",
       "    .dataframe tbody tr th:only-of-type {\n",
       "        vertical-align: middle;\n",
       "    }\n",
       "\n",
       "    .dataframe tbody tr th {\n",
       "        vertical-align: top;\n",
       "    }\n",
       "\n",
       "    .dataframe thead th {\n",
       "        text-align: right;\n",
       "    }\n",
       "</style>\n",
       "<table border=\"1\" class=\"dataframe\">\n",
       "  <thead>\n",
       "    <tr style=\"text-align: right;\">\n",
       "      <th></th>\n",
       "      <th>id</th>\n",
       "      <th>price</th>\n",
       "      <th>bedrooms</th>\n",
       "      <th>bathrooms</th>\n",
       "      <th>sqft_living</th>\n",
       "      <th>sqft_lot</th>\n",
       "      <th>floors</th>\n",
       "      <th>waterfront</th>\n",
       "      <th>view</th>\n",
       "      <th>condition</th>\n",
       "      <th>grade</th>\n",
       "      <th>sqft_above</th>\n",
       "      <th>sqft_basement</th>\n",
       "      <th>yr_built</th>\n",
       "      <th>yr_renovated</th>\n",
       "      <th>zipcode</th>\n",
       "      <th>lat</th>\n",
       "      <th>long</th>\n",
       "      <th>sqft_living15</th>\n",
       "      <th>sqft_lot15</th>\n",
       "    </tr>\n",
       "  </thead>\n",
       "  <tbody>\n",
       "    <tr>\n",
       "      <th>count</th>\n",
       "      <td>2.161300e+04</td>\n",
       "      <td>2.161300e+04</td>\n",
       "      <td>21613.000000</td>\n",
       "      <td>21613.000000</td>\n",
       "      <td>21613.000000</td>\n",
       "      <td>2.161300e+04</td>\n",
       "      <td>21613.000000</td>\n",
       "      <td>21613.000000</td>\n",
       "      <td>21613.000000</td>\n",
       "      <td>21613.000000</td>\n",
       "      <td>21613.000000</td>\n",
       "      <td>21613.000000</td>\n",
       "      <td>21613.000000</td>\n",
       "      <td>21613.000000</td>\n",
       "      <td>21613.000000</td>\n",
       "      <td>21613.000000</td>\n",
       "      <td>21613.000000</td>\n",
       "      <td>21613.000000</td>\n",
       "      <td>21613.000000</td>\n",
       "      <td>21613.000000</td>\n",
       "    </tr>\n",
       "    <tr>\n",
       "      <th>mean</th>\n",
       "      <td>4.580302e+09</td>\n",
       "      <td>5.400881e+05</td>\n",
       "      <td>3.370842</td>\n",
       "      <td>2.114757</td>\n",
       "      <td>2079.899736</td>\n",
       "      <td>1.510697e+04</td>\n",
       "      <td>1.494309</td>\n",
       "      <td>0.007542</td>\n",
       "      <td>0.234303</td>\n",
       "      <td>3.409430</td>\n",
       "      <td>7.656873</td>\n",
       "      <td>1788.390691</td>\n",
       "      <td>291.509045</td>\n",
       "      <td>1971.005136</td>\n",
       "      <td>84.402258</td>\n",
       "      <td>98077.939805</td>\n",
       "      <td>47.560053</td>\n",
       "      <td>-122.213896</td>\n",
       "      <td>1986.552492</td>\n",
       "      <td>12768.455652</td>\n",
       "    </tr>\n",
       "    <tr>\n",
       "      <th>std</th>\n",
       "      <td>2.876566e+09</td>\n",
       "      <td>3.671272e+05</td>\n",
       "      <td>0.930062</td>\n",
       "      <td>0.770163</td>\n",
       "      <td>918.440897</td>\n",
       "      <td>4.142051e+04</td>\n",
       "      <td>0.539989</td>\n",
       "      <td>0.086517</td>\n",
       "      <td>0.766318</td>\n",
       "      <td>0.650743</td>\n",
       "      <td>1.175459</td>\n",
       "      <td>828.090978</td>\n",
       "      <td>442.575043</td>\n",
       "      <td>29.373411</td>\n",
       "      <td>401.679240</td>\n",
       "      <td>53.505026</td>\n",
       "      <td>0.138564</td>\n",
       "      <td>0.140828</td>\n",
       "      <td>685.391304</td>\n",
       "      <td>27304.179631</td>\n",
       "    </tr>\n",
       "    <tr>\n",
       "      <th>min</th>\n",
       "      <td>1.000102e+06</td>\n",
       "      <td>7.500000e+04</td>\n",
       "      <td>0.000000</td>\n",
       "      <td>0.000000</td>\n",
       "      <td>290.000000</td>\n",
       "      <td>5.200000e+02</td>\n",
       "      <td>1.000000</td>\n",
       "      <td>0.000000</td>\n",
       "      <td>0.000000</td>\n",
       "      <td>1.000000</td>\n",
       "      <td>1.000000</td>\n",
       "      <td>290.000000</td>\n",
       "      <td>0.000000</td>\n",
       "      <td>1900.000000</td>\n",
       "      <td>0.000000</td>\n",
       "      <td>98001.000000</td>\n",
       "      <td>47.155900</td>\n",
       "      <td>-122.519000</td>\n",
       "      <td>399.000000</td>\n",
       "      <td>651.000000</td>\n",
       "    </tr>\n",
       "    <tr>\n",
       "      <th>25%</th>\n",
       "      <td>2.123049e+09</td>\n",
       "      <td>3.219500e+05</td>\n",
       "      <td>3.000000</td>\n",
       "      <td>1.750000</td>\n",
       "      <td>1427.000000</td>\n",
       "      <td>5.040000e+03</td>\n",
       "      <td>1.000000</td>\n",
       "      <td>0.000000</td>\n",
       "      <td>0.000000</td>\n",
       "      <td>3.000000</td>\n",
       "      <td>7.000000</td>\n",
       "      <td>1190.000000</td>\n",
       "      <td>0.000000</td>\n",
       "      <td>1951.000000</td>\n",
       "      <td>0.000000</td>\n",
       "      <td>98033.000000</td>\n",
       "      <td>47.471000</td>\n",
       "      <td>-122.328000</td>\n",
       "      <td>1490.000000</td>\n",
       "      <td>5100.000000</td>\n",
       "    </tr>\n",
       "    <tr>\n",
       "      <th>50%</th>\n",
       "      <td>3.904930e+09</td>\n",
       "      <td>4.500000e+05</td>\n",
       "      <td>3.000000</td>\n",
       "      <td>2.250000</td>\n",
       "      <td>1910.000000</td>\n",
       "      <td>7.618000e+03</td>\n",
       "      <td>1.500000</td>\n",
       "      <td>0.000000</td>\n",
       "      <td>0.000000</td>\n",
       "      <td>3.000000</td>\n",
       "      <td>7.000000</td>\n",
       "      <td>1560.000000</td>\n",
       "      <td>0.000000</td>\n",
       "      <td>1975.000000</td>\n",
       "      <td>0.000000</td>\n",
       "      <td>98065.000000</td>\n",
       "      <td>47.571800</td>\n",
       "      <td>-122.230000</td>\n",
       "      <td>1840.000000</td>\n",
       "      <td>7620.000000</td>\n",
       "    </tr>\n",
       "    <tr>\n",
       "      <th>75%</th>\n",
       "      <td>7.308900e+09</td>\n",
       "      <td>6.450000e+05</td>\n",
       "      <td>4.000000</td>\n",
       "      <td>2.500000</td>\n",
       "      <td>2550.000000</td>\n",
       "      <td>1.068800e+04</td>\n",
       "      <td>2.000000</td>\n",
       "      <td>0.000000</td>\n",
       "      <td>0.000000</td>\n",
       "      <td>4.000000</td>\n",
       "      <td>8.000000</td>\n",
       "      <td>2210.000000</td>\n",
       "      <td>560.000000</td>\n",
       "      <td>1997.000000</td>\n",
       "      <td>0.000000</td>\n",
       "      <td>98118.000000</td>\n",
       "      <td>47.678000</td>\n",
       "      <td>-122.125000</td>\n",
       "      <td>2360.000000</td>\n",
       "      <td>10083.000000</td>\n",
       "    </tr>\n",
       "    <tr>\n",
       "      <th>max</th>\n",
       "      <td>9.900000e+09</td>\n",
       "      <td>7.700000e+06</td>\n",
       "      <td>33.000000</td>\n",
       "      <td>8.000000</td>\n",
       "      <td>13540.000000</td>\n",
       "      <td>1.651359e+06</td>\n",
       "      <td>3.500000</td>\n",
       "      <td>1.000000</td>\n",
       "      <td>4.000000</td>\n",
       "      <td>5.000000</td>\n",
       "      <td>13.000000</td>\n",
       "      <td>9410.000000</td>\n",
       "      <td>4820.000000</td>\n",
       "      <td>2015.000000</td>\n",
       "      <td>2015.000000</td>\n",
       "      <td>98199.000000</td>\n",
       "      <td>47.777600</td>\n",
       "      <td>-121.315000</td>\n",
       "      <td>6210.000000</td>\n",
       "      <td>871200.000000</td>\n",
       "    </tr>\n",
       "  </tbody>\n",
       "</table>\n",
       "</div>"
      ],
      "text/plain": [
       "                 id         price      bedrooms     bathrooms   sqft_living  \\\n",
       "count  2.161300e+04  2.161300e+04  21613.000000  21613.000000  21613.000000   \n",
       "mean   4.580302e+09  5.400881e+05      3.370842      2.114757   2079.899736   \n",
       "std    2.876566e+09  3.671272e+05      0.930062      0.770163    918.440897   \n",
       "min    1.000102e+06  7.500000e+04      0.000000      0.000000    290.000000   \n",
       "25%    2.123049e+09  3.219500e+05      3.000000      1.750000   1427.000000   \n",
       "50%    3.904930e+09  4.500000e+05      3.000000      2.250000   1910.000000   \n",
       "75%    7.308900e+09  6.450000e+05      4.000000      2.500000   2550.000000   \n",
       "max    9.900000e+09  7.700000e+06     33.000000      8.000000  13540.000000   \n",
       "\n",
       "           sqft_lot        floors    waterfront          view     condition  \\\n",
       "count  2.161300e+04  21613.000000  21613.000000  21613.000000  21613.000000   \n",
       "mean   1.510697e+04      1.494309      0.007542      0.234303      3.409430   \n",
       "std    4.142051e+04      0.539989      0.086517      0.766318      0.650743   \n",
       "min    5.200000e+02      1.000000      0.000000      0.000000      1.000000   \n",
       "25%    5.040000e+03      1.000000      0.000000      0.000000      3.000000   \n",
       "50%    7.618000e+03      1.500000      0.000000      0.000000      3.000000   \n",
       "75%    1.068800e+04      2.000000      0.000000      0.000000      4.000000   \n",
       "max    1.651359e+06      3.500000      1.000000      4.000000      5.000000   \n",
       "\n",
       "              grade    sqft_above  sqft_basement      yr_built  yr_renovated  \\\n",
       "count  21613.000000  21613.000000   21613.000000  21613.000000  21613.000000   \n",
       "mean       7.656873   1788.390691     291.509045   1971.005136     84.402258   \n",
       "std        1.175459    828.090978     442.575043     29.373411    401.679240   \n",
       "min        1.000000    290.000000       0.000000   1900.000000      0.000000   \n",
       "25%        7.000000   1190.000000       0.000000   1951.000000      0.000000   \n",
       "50%        7.000000   1560.000000       0.000000   1975.000000      0.000000   \n",
       "75%        8.000000   2210.000000     560.000000   1997.000000      0.000000   \n",
       "max       13.000000   9410.000000    4820.000000   2015.000000   2015.000000   \n",
       "\n",
       "            zipcode           lat          long  sqft_living15     sqft_lot15  \n",
       "count  21613.000000  21613.000000  21613.000000   21613.000000   21613.000000  \n",
       "mean   98077.939805     47.560053   -122.213896    1986.552492   12768.455652  \n",
       "std       53.505026      0.138564      0.140828     685.391304   27304.179631  \n",
       "min    98001.000000     47.155900   -122.519000     399.000000     651.000000  \n",
       "25%    98033.000000     47.471000   -122.328000    1490.000000    5100.000000  \n",
       "50%    98065.000000     47.571800   -122.230000    1840.000000    7620.000000  \n",
       "75%    98118.000000     47.678000   -122.125000    2360.000000   10083.000000  \n",
       "max    98199.000000     47.777600   -121.315000    6210.000000  871200.000000  "
      ]
     },
     "execution_count": 5,
     "metadata": {},
     "output_type": "execute_result"
    }
   ],
   "source": [
    "df.describe()"
   ]
  },
  {
   "cell_type": "code",
   "execution_count": 6,
   "id": "potential-filling",
   "metadata": {
    "execution": {
     "iopub.execute_input": "2022-02-10T16:50:13.108873Z",
     "iopub.status.busy": "2022-02-10T16:50:13.107730Z",
     "iopub.status.idle": "2022-02-10T16:50:15.290129Z",
     "shell.execute_reply": "2022-02-10T16:50:15.290662Z",
     "shell.execute_reply.started": "2021-06-23T16:45:32.26538Z"
    },
    "papermill": {
     "duration": 2.232608,
     "end_time": "2022-02-10T16:50:15.290837",
     "exception": false,
     "start_time": "2022-02-10T16:50:13.058229",
     "status": "completed"
    },
    "scrolled": true,
    "tags": []
   },
   "outputs": [
    {
     "data": {
      "image/png": "[encoded data removed]",
      "text/plain": [
       "<Figure size 1440x1080 with 2 Axes>"
      ]
     },
     "metadata": {
      "needs_background": "light"
     },
     "output_type": "display_data"
    }
   ],
   "source": [
    "cor = df.corr()\n",
    "plt.figure(figsize=(20,15))\n",
    "sns.heatmap(cor, annot=True, cmap=plt.cm.Reds)\n",
    "plt.show()"
   ]
  },
  {
   "cell_type": "code",
   "execution_count": 7,
   "id": "identified-coordinator",
   "metadata": {
    "execution": {
     "iopub.execute_input": "2022-02-10T16:50:15.394371Z",
     "iopub.status.busy": "2022-02-10T16:50:15.393371Z",
     "iopub.status.idle": "2022-02-10T16:50:15.429838Z",
     "shell.execute_reply": "2022-02-10T16:50:15.430279Z",
     "shell.execute_reply.started": "2021-06-23T16:36:23.436689Z"
    },
    "papermill": {
     "duration": 0.089631,
     "end_time": "2022-02-10T16:50:15.430479",
     "exception": false,
     "start_time": "2022-02-10T16:50:15.340848",
     "status": "completed"
    },
    "tags": []
   },
   "outputs": [
    {
     "data": {
      "text/plain": [
       "price            1.000000\n",
       "sqft_living      0.702035\n",
       "grade            0.667434\n",
       "sqft_above       0.605567\n",
       "sqft_living15    0.585379\n",
       "bathrooms        0.525138\n",
       "view             0.397293\n",
       "sqft_basement    0.323816\n",
       "bedrooms         0.308350\n",
       "lat              0.307003\n",
       "waterfront       0.266369\n",
       "floors           0.256794\n",
       "yr_renovated     0.126434\n",
       "sqft_lot         0.089661\n",
       "sqft_lot15       0.082447\n",
       "yr_built         0.054012\n",
       "condition        0.036362\n",
       "long             0.021626\n",
       "id              -0.016762\n",
       "zipcode         -0.053203\n",
       "Name: price, dtype: float64"
      ]
     },
     "execution_count": 7,
     "metadata": {},
     "output_type": "execute_result"
    }
   ],
   "source": [
    "df.corr()[\"price\"].sort_values(ascending=False)"
   ]
  },
  {
   "cell_type": "markdown",
   "id": "played-riding",
   "metadata": {
    "papermill": {
     "duration": 0.049421,
     "end_time": "2022-02-10T16:50:15.529837",
     "exception": false,
     "start_time": "2022-02-10T16:50:15.480416",
     "status": "completed"
    },
    "tags": []
   },
   "source": [
    "The variable that affects the price the most is 'sqft_living' with +0.70 correlation value."
   ]
  },
  {
   "cell_type": "markdown",
   "id": "effective-transmission",
   "metadata": {
    "papermill": {
     "duration": 0.049313,
     "end_time": "2022-02-10T16:50:15.628939",
     "exception": false,
     "start_time": "2022-02-10T16:50:15.579626",
     "status": "completed"
    },
    "tags": []
   },
   "source": [
    "<a id = \"2\"></a><br>\n",
    "# Data Preprocessing"
   ]
  },
  {
   "cell_type": "code",
   "execution_count": 8,
   "id": "indian-andrew",
   "metadata": {
    "execution": {
     "iopub.execute_input": "2022-02-10T16:50:15.732370Z",
     "iopub.status.busy": "2022-02-10T16:50:15.731390Z",
     "iopub.status.idle": "2022-02-10T16:50:15.754591Z",
     "shell.execute_reply": "2022-02-10T16:50:15.755050Z",
     "shell.execute_reply.started": "2021-06-23T16:36:23.479347Z"
    },
    "papermill": {
     "duration": 0.076458,
     "end_time": "2022-02-10T16:50:15.755228",
     "exception": false,
     "start_time": "2022-02-10T16:50:15.678770",
     "status": "completed"
    },
    "tags": []
   },
   "outputs": [
    {
     "data": {
      "text/html": [
       "<div>\n",
       "<style scoped>\n",
       "    .dataframe tbody tr th:only-of-type {\n",
       "        vertical-align: middle;\n",
       "    }\n",
       "\n",
       "    .dataframe tbody tr th {\n",
       "        vertical-align: top;\n",
       "    }\n",
       "\n",
       "    .dataframe thead th {\n",
       "        text-align: right;\n",
       "    }\n",
       "</style>\n",
       "<table border=\"1\" class=\"dataframe\">\n",
       "  <thead>\n",
       "    <tr style=\"text-align: right;\">\n",
       "      <th></th>\n",
       "      <th>date</th>\n",
       "      <th>price</th>\n",
       "      <th>bedrooms</th>\n",
       "      <th>bathrooms</th>\n",
       "      <th>sqft_living</th>\n",
       "      <th>sqft_lot</th>\n",
       "      <th>floors</th>\n",
       "      <th>waterfront</th>\n",
       "      <th>view</th>\n",
       "      <th>condition</th>\n",
       "      <th>grade</th>\n",
       "      <th>sqft_above</th>\n",
       "      <th>sqft_basement</th>\n",
       "      <th>yr_built</th>\n",
       "      <th>yr_renovated</th>\n",
       "      <th>zipcode</th>\n",
       "      <th>lat</th>\n",
       "      <th>long</th>\n",
       "      <th>sqft_living15</th>\n",
       "      <th>sqft_lot15</th>\n",
       "    </tr>\n",
       "  </thead>\n",
       "  <tbody>\n",
       "    <tr>\n",
       "      <th>0</th>\n",
       "      <td>20141013T000000</td>\n",
       "      <td>221900.0</td>\n",
       "      <td>3</td>\n",
       "      <td>1.00</td>\n",
       "      <td>1180</td>\n",
       "      <td>5650</td>\n",
       "      <td>1.0</td>\n",
       "      <td>0</td>\n",
       "      <td>0</td>\n",
       "      <td>3</td>\n",
       "      <td>7</td>\n",
       "      <td>1180</td>\n",
       "      <td>0</td>\n",
       "      <td>1955</td>\n",
       "      <td>0</td>\n",
       "      <td>98178</td>\n",
       "      <td>47.5112</td>\n",
       "      <td>-122.257</td>\n",
       "      <td>1340</td>\n",
       "      <td>5650</td>\n",
       "    </tr>\n",
       "    <tr>\n",
       "      <th>1</th>\n",
       "      <td>20141209T000000</td>\n",
       "      <td>538000.0</td>\n",
       "      <td>3</td>\n",
       "      <td>2.25</td>\n",
       "      <td>2570</td>\n",
       "      <td>7242</td>\n",
       "      <td>2.0</td>\n",
       "      <td>0</td>\n",
       "      <td>0</td>\n",
       "      <td>3</td>\n",
       "      <td>7</td>\n",
       "      <td>2170</td>\n",
       "      <td>400</td>\n",
       "      <td>1951</td>\n",
       "      <td>1991</td>\n",
       "      <td>98125</td>\n",
       "      <td>47.7210</td>\n",
       "      <td>-122.319</td>\n",
       "      <td>1690</td>\n",
       "      <td>7639</td>\n",
       "    </tr>\n",
       "    <tr>\n",
       "      <th>2</th>\n",
       "      <td>20150225T000000</td>\n",
       "      <td>180000.0</td>\n",
       "      <td>2</td>\n",
       "      <td>1.00</td>\n",
       "      <td>770</td>\n",
       "      <td>10000</td>\n",
       "      <td>1.0</td>\n",
       "      <td>0</td>\n",
       "      <td>0</td>\n",
       "      <td>3</td>\n",
       "      <td>6</td>\n",
       "      <td>770</td>\n",
       "      <td>0</td>\n",
       "      <td>1933</td>\n",
       "      <td>0</td>\n",
       "      <td>98028</td>\n",
       "      <td>47.7379</td>\n",
       "      <td>-122.233</td>\n",
       "      <td>2720</td>\n",
       "      <td>8062</td>\n",
       "    </tr>\n",
       "    <tr>\n",
       "      <th>3</th>\n",
       "      <td>20141209T000000</td>\n",
       "      <td>604000.0</td>\n",
       "      <td>4</td>\n",
       "      <td>3.00</td>\n",
       "      <td>1960</td>\n",
       "      <td>5000</td>\n",
       "      <td>1.0</td>\n",
       "      <td>0</td>\n",
       "      <td>0</td>\n",
       "      <td>5</td>\n",
       "      <td>7</td>\n",
       "      <td>1050</td>\n",
       "      <td>910</td>\n",
       "      <td>1965</td>\n",
       "      <td>0</td>\n",
       "      <td>98136</td>\n",
       "      <td>47.5208</td>\n",
       "      <td>-122.393</td>\n",
       "      <td>1360</td>\n",
       "      <td>5000</td>\n",
       "    </tr>\n",
       "    <tr>\n",
       "      <th>4</th>\n",
       "      <td>20150218T000000</td>\n",
       "      <td>510000.0</td>\n",
       "      <td>3</td>\n",
       "      <td>2.00</td>\n",
       "      <td>1680</td>\n",
       "      <td>8080</td>\n",
       "      <td>1.0</td>\n",
       "      <td>0</td>\n",
       "      <td>0</td>\n",
       "      <td>3</td>\n",
       "      <td>8</td>\n",
       "      <td>1680</td>\n",
       "      <td>0</td>\n",
       "      <td>1987</td>\n",
       "      <td>0</td>\n",
       "      <td>98074</td>\n",
       "      <td>47.6168</td>\n",
       "      <td>-122.045</td>\n",
       "      <td>1800</td>\n",
       "      <td>7503</td>\n",
       "    </tr>\n",
       "  </tbody>\n",
       "</table>\n",
       "</div>"
      ],
      "text/plain": [
       "              date     price  bedrooms  bathrooms  sqft_living  sqft_lot  \\\n",
       "0  20141013T000000  221900.0         3       1.00         1180      5650   \n",
       "1  20141209T000000  538000.0         3       2.25         2570      7242   \n",
       "2  20150225T000000  180000.0         2       1.00          770     10000   \n",
       "3  20141209T000000  604000.0         4       3.00         1960      5000   \n",
       "4  20150218T000000  510000.0         3       2.00         1680      8080   \n",
       "\n",
       "   floors  waterfront  view  condition  grade  sqft_above  sqft_basement  \\\n",
       "0     1.0           0     0          3      7        1180              0   \n",
       "1     2.0           0     0          3      7        2170            400   \n",
       "2     1.0           0     0          3      6         770              0   \n",
       "3     1.0           0     0          5      7        1050            910   \n",
       "4     1.0           0     0          3      8        1680              0   \n",
       "\n",
       "   yr_built  yr_renovated  zipcode      lat     long  sqft_living15  \\\n",
       "0      1955             0    98178  47.5112 -122.257           1340   \n",
       "1      1951          1991    98125  47.7210 -122.319           1690   \n",
       "2      1933             0    98028  47.7379 -122.233           2720   \n",
       "3      1965             0    98136  47.5208 -122.393           1360   \n",
       "4      1987             0    98074  47.6168 -122.045           1800   \n",
       "\n",
       "   sqft_lot15  \n",
       "0        5650  \n",
       "1        7639  \n",
       "2        8062  \n",
       "3        5000  \n",
       "4        7503  "
      ]
     },
     "execution_count": 8,
     "metadata": {},
     "output_type": "execute_result"
    }
   ],
   "source": [
    "df = df.drop([\"id\"],axis=1)\n",
    "df.head()"
   ]
  },
  {
   "cell_type": "markdown",
   "id": "laughing-medicaid",
   "metadata": {
    "papermill": {
     "duration": 0.050216,
     "end_time": "2022-02-10T16:50:15.856574",
     "exception": false,
     "start_time": "2022-02-10T16:50:15.806358",
     "status": "completed"
    },
    "tags": []
   },
   "source": [
    "The 'id' column is meaningless for this problem so, I dropped it. Also, the 'date' column is non-numeric, but I don't want to drop it so I'll split it into 3 parts, 'day', 'month' and 'year'.The last thing I will do is: I will not remove the 'zipcode' column because after I finished the whole process, I removed it and checked the performance of the models, I get better results with the 'zipcode' column."
   ]
  },
  {
   "cell_type": "code",
   "execution_count": 9,
   "id": "equipped-location",
   "metadata": {
    "execution": {
     "iopub.execute_input": "2022-02-10T16:50:15.966923Z",
     "iopub.status.busy": "2022-02-10T16:50:15.966216Z",
     "iopub.status.idle": "2022-02-10T16:50:16.015783Z",
     "shell.execute_reply": "2022-02-10T16:50:16.016346Z",
     "shell.execute_reply.started": "2021-06-23T16:36:23.510241Z"
    },
    "papermill": {
     "duration": 0.109435,
     "end_time": "2022-02-10T16:50:16.016518",
     "exception": false,
     "start_time": "2022-02-10T16:50:15.907083",
     "status": "completed"
    },
    "tags": []
   },
   "outputs": [
    {
     "data": {
      "text/html": [
       "<div>\n",
       "<style scoped>\n",
       "    .dataframe tbody tr th:only-of-type {\n",
       "        vertical-align: middle;\n",
       "    }\n",
       "\n",
       "    .dataframe tbody tr th {\n",
       "        vertical-align: top;\n",
       "    }\n",
       "\n",
       "    .dataframe thead th {\n",
       "        text-align: right;\n",
       "    }\n",
       "</style>\n",
       "<table border=\"1\" class=\"dataframe\">\n",
       "  <thead>\n",
       "    <tr style=\"text-align: right;\">\n",
       "      <th></th>\n",
       "      <th>price</th>\n",
       "      <th>bedrooms</th>\n",
       "      <th>bathrooms</th>\n",
       "      <th>sqft_living</th>\n",
       "      <th>sqft_lot</th>\n",
       "      <th>floors</th>\n",
       "      <th>waterfront</th>\n",
       "      <th>view</th>\n",
       "      <th>condition</th>\n",
       "      <th>grade</th>\n",
       "      <th>...</th>\n",
       "      <th>yr_built</th>\n",
       "      <th>yr_renovated</th>\n",
       "      <th>zipcode</th>\n",
       "      <th>lat</th>\n",
       "      <th>long</th>\n",
       "      <th>sqft_living15</th>\n",
       "      <th>sqft_lot15</th>\n",
       "      <th>year</th>\n",
       "      <th>month</th>\n",
       "      <th>day</th>\n",
       "    </tr>\n",
       "  </thead>\n",
       "  <tbody>\n",
       "    <tr>\n",
       "      <th>0</th>\n",
       "      <td>221900.0</td>\n",
       "      <td>3</td>\n",
       "      <td>1.00</td>\n",
       "      <td>1180</td>\n",
       "      <td>5650</td>\n",
       "      <td>1.0</td>\n",
       "      <td>0</td>\n",
       "      <td>0</td>\n",
       "      <td>3</td>\n",
       "      <td>7</td>\n",
       "      <td>...</td>\n",
       "      <td>1955</td>\n",
       "      <td>0</td>\n",
       "      <td>98178</td>\n",
       "      <td>47.5112</td>\n",
       "      <td>-122.257</td>\n",
       "      <td>1340</td>\n",
       "      <td>5650</td>\n",
       "      <td>2014</td>\n",
       "      <td>10</td>\n",
       "      <td>13</td>\n",
       "    </tr>\n",
       "    <tr>\n",
       "      <th>1</th>\n",
       "      <td>538000.0</td>\n",
       "      <td>3</td>\n",
       "      <td>2.25</td>\n",
       "      <td>2570</td>\n",
       "      <td>7242</td>\n",
       "      <td>2.0</td>\n",
       "      <td>0</td>\n",
       "      <td>0</td>\n",
       "      <td>3</td>\n",
       "      <td>7</td>\n",
       "      <td>...</td>\n",
       "      <td>1951</td>\n",
       "      <td>1991</td>\n",
       "      <td>98125</td>\n",
       "      <td>47.7210</td>\n",
       "      <td>-122.319</td>\n",
       "      <td>1690</td>\n",
       "      <td>7639</td>\n",
       "      <td>2014</td>\n",
       "      <td>12</td>\n",
       "      <td>9</td>\n",
       "    </tr>\n",
       "    <tr>\n",
       "      <th>2</th>\n",
       "      <td>180000.0</td>\n",
       "      <td>2</td>\n",
       "      <td>1.00</td>\n",
       "      <td>770</td>\n",
       "      <td>10000</td>\n",
       "      <td>1.0</td>\n",
       "      <td>0</td>\n",
       "      <td>0</td>\n",
       "      <td>3</td>\n",
       "      <td>6</td>\n",
       "      <td>...</td>\n",
       "      <td>1933</td>\n",
       "      <td>0</td>\n",
       "      <td>98028</td>\n",
       "      <td>47.7379</td>\n",
       "      <td>-122.233</td>\n",
       "      <td>2720</td>\n",
       "      <td>8062</td>\n",
       "      <td>2015</td>\n",
       "      <td>2</td>\n",
       "      <td>25</td>\n",
       "    </tr>\n",
       "    <tr>\n",
       "      <th>3</th>\n",
       "      <td>604000.0</td>\n",
       "      <td>4</td>\n",
       "      <td>3.00</td>\n",
       "      <td>1960</td>\n",
       "      <td>5000</td>\n",
       "      <td>1.0</td>\n",
       "      <td>0</td>\n",
       "      <td>0</td>\n",
       "      <td>5</td>\n",
       "      <td>7</td>\n",
       "      <td>...</td>\n",
       "      <td>1965</td>\n",
       "      <td>0</td>\n",
       "      <td>98136</td>\n",
       "      <td>47.5208</td>\n",
       "      <td>-122.393</td>\n",
       "      <td>1360</td>\n",
       "      <td>5000</td>\n",
       "      <td>2014</td>\n",
       "      <td>12</td>\n",
       "      <td>9</td>\n",
       "    </tr>\n",
       "    <tr>\n",
       "      <th>4</th>\n",
       "      <td>510000.0</td>\n",
       "      <td>3</td>\n",
       "      <td>2.00</td>\n",
       "      <td>1680</td>\n",
       "      <td>8080</td>\n",
       "      <td>1.0</td>\n",
       "      <td>0</td>\n",
       "      <td>0</td>\n",
       "      <td>3</td>\n",
       "      <td>8</td>\n",
       "      <td>...</td>\n",
       "      <td>1987</td>\n",
       "      <td>0</td>\n",
       "      <td>98074</td>\n",
       "      <td>47.6168</td>\n",
       "      <td>-122.045</td>\n",
       "      <td>1800</td>\n",
       "      <td>7503</td>\n",
       "      <td>2015</td>\n",
       "      <td>2</td>\n",
       "      <td>18</td>\n",
       "    </tr>\n",
       "    <tr>\n",
       "      <th>5</th>\n",
       "      <td>1225000.0</td>\n",
       "      <td>4</td>\n",
       "      <td>4.50</td>\n",
       "      <td>5420</td>\n",
       "      <td>101930</td>\n",
       "      <td>1.0</td>\n",
       "      <td>0</td>\n",
       "      <td>0</td>\n",
       "      <td>3</td>\n",
       "      <td>11</td>\n",
       "      <td>...</td>\n",
       "      <td>2001</td>\n",
       "      <td>0</td>\n",
       "      <td>98053</td>\n",
       "      <td>47.6561</td>\n",
       "      <td>-122.005</td>\n",
       "      <td>4760</td>\n",
       "      <td>101930</td>\n",
       "      <td>2014</td>\n",
       "      <td>5</td>\n",
       "      <td>12</td>\n",
       "    </tr>\n",
       "    <tr>\n",
       "      <th>6</th>\n",
       "      <td>257500.0</td>\n",
       "      <td>3</td>\n",
       "      <td>2.25</td>\n",
       "      <td>1715</td>\n",
       "      <td>6819</td>\n",
       "      <td>2.0</td>\n",
       "      <td>0</td>\n",
       "      <td>0</td>\n",
       "      <td>3</td>\n",
       "      <td>7</td>\n",
       "      <td>...</td>\n",
       "      <td>1995</td>\n",
       "      <td>0</td>\n",
       "      <td>98003</td>\n",
       "      <td>47.3097</td>\n",
       "      <td>-122.327</td>\n",
       "      <td>2238</td>\n",
       "      <td>6819</td>\n",
       "      <td>2014</td>\n",
       "      <td>6</td>\n",
       "      <td>27</td>\n",
       "    </tr>\n",
       "    <tr>\n",
       "      <th>7</th>\n",
       "      <td>291850.0</td>\n",
       "      <td>3</td>\n",
       "      <td>1.50</td>\n",
       "      <td>1060</td>\n",
       "      <td>9711</td>\n",
       "      <td>1.0</td>\n",
       "      <td>0</td>\n",
       "      <td>0</td>\n",
       "      <td>3</td>\n",
       "      <td>7</td>\n",
       "      <td>...</td>\n",
       "      <td>1963</td>\n",
       "      <td>0</td>\n",
       "      <td>98198</td>\n",
       "      <td>47.4095</td>\n",
       "      <td>-122.315</td>\n",
       "      <td>1650</td>\n",
       "      <td>9711</td>\n",
       "      <td>2015</td>\n",
       "      <td>1</td>\n",
       "      <td>15</td>\n",
       "    </tr>\n",
       "    <tr>\n",
       "      <th>8</th>\n",
       "      <td>229500.0</td>\n",
       "      <td>3</td>\n",
       "      <td>1.00</td>\n",
       "      <td>1780</td>\n",
       "      <td>7470</td>\n",
       "      <td>1.0</td>\n",
       "      <td>0</td>\n",
       "      <td>0</td>\n",
       "      <td>3</td>\n",
       "      <td>7</td>\n",
       "      <td>...</td>\n",
       "      <td>1960</td>\n",
       "      <td>0</td>\n",
       "      <td>98146</td>\n",
       "      <td>47.5123</td>\n",
       "      <td>-122.337</td>\n",
       "      <td>1780</td>\n",
       "      <td>8113</td>\n",
       "      <td>2015</td>\n",
       "      <td>4</td>\n",
       "      <td>15</td>\n",
       "    </tr>\n",
       "    <tr>\n",
       "      <th>9</th>\n",
       "      <td>323000.0</td>\n",
       "      <td>3</td>\n",
       "      <td>2.50</td>\n",
       "      <td>1890</td>\n",
       "      <td>6560</td>\n",
       "      <td>2.0</td>\n",
       "      <td>0</td>\n",
       "      <td>0</td>\n",
       "      <td>3</td>\n",
       "      <td>7</td>\n",
       "      <td>...</td>\n",
       "      <td>2003</td>\n",
       "      <td>0</td>\n",
       "      <td>98038</td>\n",
       "      <td>47.3684</td>\n",
       "      <td>-122.031</td>\n",
       "      <td>2390</td>\n",
       "      <td>7570</td>\n",
       "      <td>2015</td>\n",
       "      <td>3</td>\n",
       "      <td>12</td>\n",
       "    </tr>\n",
       "  </tbody>\n",
       "</table>\n",
       "<p>10 rows × 22 columns</p>\n",
       "</div>"
      ],
      "text/plain": [
       "       price  bedrooms  bathrooms  sqft_living  sqft_lot  floors  waterfront  \\\n",
       "0   221900.0         3       1.00         1180      5650     1.0           0   \n",
       "1   538000.0         3       2.25         2570      7242     2.0           0   \n",
       "2   180000.0         2       1.00          770     10000     1.0           0   \n",
       "3   604000.0         4       3.00         1960      5000     1.0           0   \n",
       "4   510000.0         3       2.00         1680      8080     1.0           0   \n",
       "5  1225000.0         4       4.50         5420    101930     1.0           0   \n",
       "6   257500.0         3       2.25         1715      6819     2.0           0   \n",
       "7   291850.0         3       1.50         1060      9711     1.0           0   \n",
       "8   229500.0         3       1.00         1780      7470     1.0           0   \n",
       "9   323000.0         3       2.50         1890      6560     2.0           0   \n",
       "\n",
       "   view  condition  grade  ...  yr_built  yr_renovated  zipcode      lat  \\\n",
       "0     0          3      7  ...      1955             0    98178  47.5112   \n",
       "1     0          3      7  ...      1951          1991    98125  47.7210   \n",
       "2     0          3      6  ...      1933             0    98028  47.7379   \n",
       "3     0          5      7  ...      1965             0    98136  47.5208   \n",
       "4     0          3      8  ...      1987             0    98074  47.6168   \n",
       "5     0          3     11  ...      2001             0    98053  47.6561   \n",
       "6     0          3      7  ...      1995             0    98003  47.3097   \n",
       "7     0          3      7  ...      1963             0    98198  47.4095   \n",
       "8     0          3      7  ...      1960             0    98146  47.5123   \n",
       "9     0          3      7  ...      2003             0    98038  47.3684   \n",
       "\n",
       "      long  sqft_living15  sqft_lot15  year  month  day  \n",
       "0 -122.257           1340        5650  2014     10   13  \n",
       "1 -122.319           1690        7639  2014     12    9  \n",
       "2 -122.233           2720        8062  2015      2   25  \n",
       "3 -122.393           1360        5000  2014     12    9  \n",
       "4 -122.045           1800        7503  2015      2   18  \n",
       "5 -122.005           4760      101930  2014      5   12  \n",
       "6 -122.327           2238        6819  2014      6   27  \n",
       "7 -122.315           1650        9711  2015      1   15  \n",
       "8 -122.337           1780        8113  2015      4   15  \n",
       "9 -122.031           2390        7570  2015      3   12  \n",
       "\n",
       "[10 rows x 22 columns]"
      ]
     },
     "execution_count": 9,
     "metadata": {},
     "output_type": "execute_result"
    }
   ],
   "source": [
    "df['date'] = pd.to_datetime(df['date'])\n",
    "df['year'] = df['date'].dt.year\n",
    "df['month'] = df['date'].dt.month\n",
    "df['day'] = df['date'].dt.day\n",
    "\n",
    "df = df.drop(\"date\",axis=1)\n",
    "\n",
    "df.head(10)"
   ]
  },
  {
   "cell_type": "markdown",
   "id": "unlike-anxiety",
   "metadata": {
    "papermill": {
     "duration": 0.052499,
     "end_time": "2022-02-10T16:50:16.121177",
     "exception": false,
     "start_time": "2022-02-10T16:50:16.068678",
     "status": "completed"
    },
    "tags": []
   },
   "source": [
    "I split the 'date' column into 'year', 'month' and 'day' columns.\n",
    "These columns are located on the far right. Then I dropped the 'date' column."
   ]
  },
  {
   "cell_type": "code",
   "execution_count": 10,
   "id": "peaceful-spare",
   "metadata": {
    "execution": {
     "iopub.execute_input": "2022-02-10T16:50:16.228544Z",
     "iopub.status.busy": "2022-02-10T16:50:16.227575Z",
     "iopub.status.idle": "2022-02-10T16:50:16.708223Z",
     "shell.execute_reply": "2022-02-10T16:50:16.708723Z",
     "shell.execute_reply.started": "2021-06-23T16:36:23.573843Z"
    },
    "papermill": {
     "duration": 0.53538,
     "end_time": "2022-02-10T16:50:16.708907",
     "exception": false,
     "start_time": "2022-02-10T16:50:16.173527",
     "status": "completed"
    },
    "tags": []
   },
   "outputs": [
    {
     "name": "stderr",
     "output_type": "stream",
     "text": [
      "/opt/conda/lib/python3.7/site-packages/seaborn/distributions.py:2557: FutureWarning: `distplot` is a deprecated function and will be removed in a future version. Please adapt your code to use either `displot` (a figure-level function with similar flexibility) or `histplot` (an axes-level function for histograms).\n",
      "  warnings.warn(msg, FutureWarning)\n"
     ]
    },
    {
     "data": {
      "text/plain": [
       "<AxesSubplot:xlabel='price', ylabel='Density'>"
      ]
     },
     "execution_count": 10,
     "metadata": {},
     "output_type": "execute_result"
    },
    {
     "data": {
      "image/png": "[encoded data removed]",
      "text/plain": [
       "<Figure size 432x288 with 1 Axes>"
      ]
     },
     "metadata": {
      "needs_background": "light"
     },
     "output_type": "display_data"
    }
   ],
   "source": [
    "sns.distplot(df['price'])"
   ]
  },
  {
   "attachments": {
    "da4c36ab-23c2-43ab-9714-ae95bc56b55d.PNG": {
     "image/png": "[encoded data removed]"
    }
   },
   "cell_type": "markdown",
   "id": "placed-compromise",
   "metadata": {
    "papermill": {
     "duration": 0.053149,
     "end_time": "2022-02-10T16:50:16.815546",
     "exception": false,
     "start_time": "2022-02-10T16:50:16.762397",
     "status": "completed"
    },
    "tags": []
   },
   "source": [
    "It looks like a Normal Distribution, but on the right there is some data that distorts the distribution (shown in yellow in the picture). ![qqqqqqqq.PNG](attachment:da4c36ab-23c2-43ab-9714-ae95bc56b55d.PNG) I'll drop some of it"
   ]
  },
  {
   "cell_type": "markdown",
   "id": "utility-dinner",
   "metadata": {
    "papermill": {
     "duration": 0.053146,
     "end_time": "2022-02-10T16:50:16.922196",
     "exception": false,
     "start_time": "2022-02-10T16:50:16.869050",
     "status": "completed"
    },
    "tags": []
   },
   "source": [
    "It is enough to drop 1% of the total data."
   ]
  },
  {
   "cell_type": "code",
   "execution_count": 11,
   "id": "adopted-processing",
   "metadata": {
    "execution": {
     "iopub.execute_input": "2022-02-10T16:50:17.033607Z",
     "iopub.status.busy": "2022-02-10T16:50:17.032594Z",
     "iopub.status.idle": "2022-02-10T16:50:17.038567Z",
     "shell.execute_reply": "2022-02-10T16:50:17.039113Z",
     "shell.execute_reply.started": "2021-06-23T16:36:24.104524Z"
    },
    "papermill": {
     "duration": 0.063121,
     "end_time": "2022-02-10T16:50:17.039283",
     "exception": false,
     "start_time": "2022-02-10T16:50:16.976162",
     "status": "completed"
    },
    "tags": []
   },
   "outputs": [
    {
     "data": {
      "text/plain": [
       "216.13"
      ]
     },
     "execution_count": 11,
     "metadata": {},
     "output_type": "execute_result"
    }
   ],
   "source": [
    "len(df)*0.01"
   ]
  },
  {
   "cell_type": "markdown",
   "id": "manufactured-universe",
   "metadata": {
    "papermill": {
     "duration": 0.054317,
     "end_time": "2022-02-10T16:50:17.147425",
     "exception": false,
     "start_time": "2022-02-10T16:50:17.093108",
     "status": "completed"
    },
    "tags": []
   },
   "source": [
    "I found the number of rows to drop. So, 216 rows will be dropped."
   ]
  },
  {
   "cell_type": "code",
   "execution_count": 12,
   "id": "confused-atmosphere",
   "metadata": {
    "execution": {
     "iopub.execute_input": "2022-02-10T16:50:17.260086Z",
     "iopub.status.busy": "2022-02-10T16:50:17.259117Z",
     "iopub.status.idle": "2022-02-10T16:50:17.293613Z",
     "shell.execute_reply": "2022-02-10T16:50:17.294205Z",
     "shell.execute_reply.started": "2021-06-23T16:36:24.114135Z"
    },
    "papermill": {
     "duration": 0.093586,
     "end_time": "2022-02-10T16:50:17.294399",
     "exception": false,
     "start_time": "2022-02-10T16:50:17.200813",
     "status": "completed"
    },
    "tags": []
   },
   "outputs": [
    {
     "data": {
      "text/html": [
       "<div>\n",
       "<style scoped>\n",
       "    .dataframe tbody tr th:only-of-type {\n",
       "        vertical-align: middle;\n",
       "    }\n",
       "\n",
       "    .dataframe tbody tr th {\n",
       "        vertical-align: top;\n",
       "    }\n",
       "\n",
       "    .dataframe thead th {\n",
       "        text-align: right;\n",
       "    }\n",
       "</style>\n",
       "<table border=\"1\" class=\"dataframe\">\n",
       "  <thead>\n",
       "    <tr style=\"text-align: right;\">\n",
       "      <th></th>\n",
       "      <th>price</th>\n",
       "      <th>bedrooms</th>\n",
       "      <th>bathrooms</th>\n",
       "      <th>sqft_living</th>\n",
       "      <th>sqft_lot</th>\n",
       "      <th>floors</th>\n",
       "      <th>waterfront</th>\n",
       "      <th>view</th>\n",
       "      <th>condition</th>\n",
       "      <th>grade</th>\n",
       "      <th>...</th>\n",
       "      <th>yr_built</th>\n",
       "      <th>yr_renovated</th>\n",
       "      <th>zipcode</th>\n",
       "      <th>lat</th>\n",
       "      <th>long</th>\n",
       "      <th>sqft_living15</th>\n",
       "      <th>sqft_lot15</th>\n",
       "      <th>year</th>\n",
       "      <th>month</th>\n",
       "      <th>day</th>\n",
       "    </tr>\n",
       "  </thead>\n",
       "  <tbody>\n",
       "    <tr>\n",
       "      <th>3281</th>\n",
       "      <td>1965000.0</td>\n",
       "      <td>5</td>\n",
       "      <td>3.75</td>\n",
       "      <td>3940</td>\n",
       "      <td>13738</td>\n",
       "      <td>1.5</td>\n",
       "      <td>0</td>\n",
       "      <td>3</td>\n",
       "      <td>4</td>\n",
       "      <td>9</td>\n",
       "      <td>...</td>\n",
       "      <td>1951</td>\n",
       "      <td>0</td>\n",
       "      <td>98004</td>\n",
       "      <td>47.6203</td>\n",
       "      <td>-122.212</td>\n",
       "      <td>2370</td>\n",
       "      <td>13320</td>\n",
       "      <td>2015</td>\n",
       "      <td>2</td>\n",
       "      <td>26</td>\n",
       "    </tr>\n",
       "    <tr>\n",
       "      <th>12577</th>\n",
       "      <td>1960000.0</td>\n",
       "      <td>4</td>\n",
       "      <td>4.00</td>\n",
       "      <td>4430</td>\n",
       "      <td>31353</td>\n",
       "      <td>2.0</td>\n",
       "      <td>0</td>\n",
       "      <td>0</td>\n",
       "      <td>3</td>\n",
       "      <td>12</td>\n",
       "      <td>...</td>\n",
       "      <td>1998</td>\n",
       "      <td>0</td>\n",
       "      <td>98005</td>\n",
       "      <td>47.6422</td>\n",
       "      <td>-122.157</td>\n",
       "      <td>3900</td>\n",
       "      <td>35237</td>\n",
       "      <td>2015</td>\n",
       "      <td>4</td>\n",
       "      <td>22</td>\n",
       "    </tr>\n",
       "    <tr>\n",
       "      <th>12283</th>\n",
       "      <td>1959000.0</td>\n",
       "      <td>5</td>\n",
       "      <td>4.50</td>\n",
       "      <td>6200</td>\n",
       "      <td>23373</td>\n",
       "      <td>3.0</td>\n",
       "      <td>0</td>\n",
       "      <td>1</td>\n",
       "      <td>4</td>\n",
       "      <td>11</td>\n",
       "      <td>...</td>\n",
       "      <td>1988</td>\n",
       "      <td>0</td>\n",
       "      <td>98040</td>\n",
       "      <td>47.5632</td>\n",
       "      <td>-122.215</td>\n",
       "      <td>3700</td>\n",
       "      <td>14486</td>\n",
       "      <td>2014</td>\n",
       "      <td>10</td>\n",
       "      <td>15</td>\n",
       "    </tr>\n",
       "    <tr>\n",
       "      <th>1152</th>\n",
       "      <td>1955000.0</td>\n",
       "      <td>4</td>\n",
       "      <td>2.75</td>\n",
       "      <td>3120</td>\n",
       "      <td>7898</td>\n",
       "      <td>1.0</td>\n",
       "      <td>1</td>\n",
       "      <td>4</td>\n",
       "      <td>4</td>\n",
       "      <td>8</td>\n",
       "      <td>...</td>\n",
       "      <td>1963</td>\n",
       "      <td>0</td>\n",
       "      <td>98034</td>\n",
       "      <td>47.7165</td>\n",
       "      <td>-122.259</td>\n",
       "      <td>2630</td>\n",
       "      <td>13868</td>\n",
       "      <td>2015</td>\n",
       "      <td>4</td>\n",
       "      <td>21</td>\n",
       "    </tr>\n",
       "    <tr>\n",
       "      <th>9175</th>\n",
       "      <td>1955000.0</td>\n",
       "      <td>3</td>\n",
       "      <td>1.75</td>\n",
       "      <td>3330</td>\n",
       "      <td>12566</td>\n",
       "      <td>1.0</td>\n",
       "      <td>1</td>\n",
       "      <td>4</td>\n",
       "      <td>4</td>\n",
       "      <td>8</td>\n",
       "      <td>...</td>\n",
       "      <td>1960</td>\n",
       "      <td>0</td>\n",
       "      <td>98040</td>\n",
       "      <td>47.5287</td>\n",
       "      <td>-122.220</td>\n",
       "      <td>3730</td>\n",
       "      <td>16560</td>\n",
       "      <td>2015</td>\n",
       "      <td>2</td>\n",
       "      <td>13</td>\n",
       "    </tr>\n",
       "  </tbody>\n",
       "</table>\n",
       "<p>5 rows × 22 columns</p>\n",
       "</div>"
      ],
      "text/plain": [
       "           price  bedrooms  bathrooms  sqft_living  sqft_lot  floors  \\\n",
       "3281   1965000.0         5       3.75         3940     13738     1.5   \n",
       "12577  1960000.0         4       4.00         4430     31353     2.0   \n",
       "12283  1959000.0         5       4.50         6200     23373     3.0   \n",
       "1152   1955000.0         4       2.75         3120      7898     1.0   \n",
       "9175   1955000.0         3       1.75         3330     12566     1.0   \n",
       "\n",
       "       waterfront  view  condition  grade  ...  yr_built  yr_renovated  \\\n",
       "3281            0     3          4      9  ...      1951             0   \n",
       "12577           0     0          3     12  ...      1998             0   \n",
       "12283           0     1          4     11  ...      1988             0   \n",
       "1152            1     4          4      8  ...      1963             0   \n",
       "9175            1     4          4      8  ...      1960             0   \n",
       "\n",
       "       zipcode      lat     long  sqft_living15  sqft_lot15  year  month  day  \n",
       "3281     98004  47.6203 -122.212           2370       13320  2015      2   26  \n",
       "12577    98005  47.6422 -122.157           3900       35237  2015      4   22  \n",
       "12283    98040  47.5632 -122.215           3700       14486  2014     10   15  \n",
       "1152     98034  47.7165 -122.259           2630       13868  2015      4   21  \n",
       "9175     98040  47.5287 -122.220           3730       16560  2015      2   13  \n",
       "\n",
       "[5 rows x 22 columns]"
      ]
     },
     "execution_count": 12,
     "metadata": {},
     "output_type": "execute_result"
    }
   ],
   "source": [
    "df = df.sort_values(['price'], ascending=False).iloc[216:]\n",
    "df.head()"
   ]
  },
  {
   "cell_type": "markdown",
   "id": "damaged-dispute",
   "metadata": {
    "papermill": {
     "duration": 0.054251,
     "end_time": "2022-02-10T16:50:17.403898",
     "exception": false,
     "start_time": "2022-02-10T16:50:17.349647",
     "status": "completed"
    },
    "tags": []
   },
   "source": [
    "In this way, some of the data that adversely affected the normal distribution was removed."
   ]
  },
  {
   "cell_type": "code",
   "execution_count": 13,
   "id": "forced-fifty",
   "metadata": {
    "_kg_hide-input": true,
    "execution": {
     "iopub.execute_input": "2022-02-10T16:50:17.519537Z",
     "iopub.status.busy": "2022-02-10T16:50:17.518843Z",
     "iopub.status.idle": "2022-02-10T16:50:17.964460Z",
     "shell.execute_reply": "2022-02-10T16:50:17.963893Z",
     "shell.execute_reply.started": "2021-06-23T16:36:24.163588Z"
    },
    "papermill": {
     "duration": 0.506519,
     "end_time": "2022-02-10T16:50:17.964603",
     "exception": false,
     "start_time": "2022-02-10T16:50:17.458084",
     "status": "completed"
    },
    "scrolled": true,
    "tags": []
   },
   "outputs": [
    {
     "name": "stderr",
     "output_type": "stream",
     "text": [
      "/opt/conda/lib/python3.7/site-packages/seaborn/distributions.py:2557: FutureWarning: `distplot` is a deprecated function and will be removed in a future version. Please adapt your code to use either `displot` (a figure-level function with similar flexibility) or `histplot` (an axes-level function for histograms).\n",
      "  warnings.warn(msg, FutureWarning)\n"
     ]
    },
    {
     "data": {
      "text/plain": [
       "<AxesSubplot:xlabel='price', ylabel='Density'>"
      ]
     },
     "execution_count": 13,
     "metadata": {},
     "output_type": "execute_result"
    },
    {
     "data": {
      "image/png": "[encoded data removed]",
      "text/plain": [
       "<Figure size 432x288 with 1 Axes>"
      ]
     },
     "metadata": {
      "needs_background": "light"
     },
     "output_type": "display_data"
    }
   ],
   "source": [
    "sns.distplot(df['price'])"
   ]
  },
  {
   "cell_type": "markdown",
   "id": "furnished-brake",
   "metadata": {
    "papermill": {
     "duration": 0.058099,
     "end_time": "2022-02-10T16:50:18.079429",
     "exception": false,
     "start_time": "2022-02-10T16:50:18.021330",
     "status": "completed"
    },
    "tags": []
   },
   "source": [
    "We got a 'more' normal distribution, nice."
   ]
  },
  {
   "cell_type": "code",
   "execution_count": 14,
   "id": "supreme-mainland",
   "metadata": {
    "execution": {
     "iopub.execute_input": "2022-02-10T16:50:18.202180Z",
     "iopub.status.busy": "2022-02-10T16:50:18.201493Z",
     "iopub.status.idle": "2022-02-10T16:50:18.290858Z",
     "shell.execute_reply": "2022-02-10T16:50:18.290167Z",
     "shell.execute_reply.started": "2021-06-23T16:36:24.650397Z"
    },
    "papermill": {
     "duration": 0.154512,
     "end_time": "2022-02-10T16:50:18.291012",
     "exception": false,
     "start_time": "2022-02-10T16:50:18.136500",
     "status": "completed"
    },
    "tags": []
   },
   "outputs": [
    {
     "data": {
      "text/html": [
       "<div>\n",
       "<style scoped>\n",
       "    .dataframe tbody tr th:only-of-type {\n",
       "        vertical-align: middle;\n",
       "    }\n",
       "\n",
       "    .dataframe tbody tr th {\n",
       "        vertical-align: top;\n",
       "    }\n",
       "\n",
       "    .dataframe thead th {\n",
       "        text-align: right;\n",
       "    }\n",
       "</style>\n",
       "<table border=\"1\" class=\"dataframe\">\n",
       "  <thead>\n",
       "    <tr style=\"text-align: right;\">\n",
       "      <th></th>\n",
       "      <th>price</th>\n",
       "      <th>bedrooms</th>\n",
       "      <th>bathrooms</th>\n",
       "      <th>sqft_living</th>\n",
       "      <th>sqft_lot</th>\n",
       "      <th>floors</th>\n",
       "      <th>waterfront</th>\n",
       "      <th>view</th>\n",
       "      <th>condition</th>\n",
       "      <th>grade</th>\n",
       "      <th>...</th>\n",
       "      <th>yr_built</th>\n",
       "      <th>yr_renovated</th>\n",
       "      <th>zipcode</th>\n",
       "      <th>lat</th>\n",
       "      <th>long</th>\n",
       "      <th>sqft_living15</th>\n",
       "      <th>sqft_lot15</th>\n",
       "      <th>year</th>\n",
       "      <th>month</th>\n",
       "      <th>day</th>\n",
       "    </tr>\n",
       "  </thead>\n",
       "  <tbody>\n",
       "    <tr>\n",
       "      <th>count</th>\n",
       "      <td>2.139700e+04</td>\n",
       "      <td>21397.000000</td>\n",
       "      <td>21397.000000</td>\n",
       "      <td>21397.000000</td>\n",
       "      <td>2.139700e+04</td>\n",
       "      <td>21397.000000</td>\n",
       "      <td>21397.000000</td>\n",
       "      <td>21397.000000</td>\n",
       "      <td>21397.000000</td>\n",
       "      <td>21397.000000</td>\n",
       "      <td>...</td>\n",
       "      <td>21397.000000</td>\n",
       "      <td>21397.000000</td>\n",
       "      <td>21397.000000</td>\n",
       "      <td>21397.000000</td>\n",
       "      <td>21397.000000</td>\n",
       "      <td>21397.000000</td>\n",
       "      <td>21397.000000</td>\n",
       "      <td>21397.000000</td>\n",
       "      <td>21397.000000</td>\n",
       "      <td>21397.000000</td>\n",
       "    </tr>\n",
       "    <tr>\n",
       "      <th>mean</th>\n",
       "      <td>5.181830e+05</td>\n",
       "      <td>3.360985</td>\n",
       "      <td>2.097537</td>\n",
       "      <td>2050.579707</td>\n",
       "      <td>1.499318e+04</td>\n",
       "      <td>1.490513</td>\n",
       "      <td>0.005328</td>\n",
       "      <td>0.216385</td>\n",
       "      <td>3.408282</td>\n",
       "      <td>7.626303</td>\n",
       "      <td>...</td>\n",
       "      <td>1970.988316</td>\n",
       "      <td>82.267748</td>\n",
       "      <td>98078.079871</td>\n",
       "      <td>47.559461</td>\n",
       "      <td>-122.213655</td>\n",
       "      <td>1971.626677</td>\n",
       "      <td>12696.738842</td>\n",
       "      <td>2014.322896</td>\n",
       "      <td>6.575221</td>\n",
       "      <td>15.693321</td>\n",
       "    </tr>\n",
       "    <tr>\n",
       "      <th>std</th>\n",
       "      <td>2.847527e+05</td>\n",
       "      <td>0.923908</td>\n",
       "      <td>0.746989</td>\n",
       "      <td>861.483593</td>\n",
       "      <td>4.097853e+04</td>\n",
       "      <td>0.539242</td>\n",
       "      <td>0.072799</td>\n",
       "      <td>0.729494</td>\n",
       "      <td>0.649548</td>\n",
       "      <td>1.135392</td>\n",
       "      <td>...</td>\n",
       "      <td>29.307017</td>\n",
       "      <td>396.784910</td>\n",
       "      <td>53.471510</td>\n",
       "      <td>0.139047</td>\n",
       "      <td>0.141223</td>\n",
       "      <td>668.086144</td>\n",
       "      <td>27203.128770</td>\n",
       "      <td>0.467594</td>\n",
       "      <td>3.116020</td>\n",
       "      <td>8.630871</td>\n",
       "    </tr>\n",
       "    <tr>\n",
       "      <th>min</th>\n",
       "      <td>7.500000e+04</td>\n",
       "      <td>0.000000</td>\n",
       "      <td>0.000000</td>\n",
       "      <td>290.000000</td>\n",
       "      <td>5.200000e+02</td>\n",
       "      <td>1.000000</td>\n",
       "      <td>0.000000</td>\n",
       "      <td>0.000000</td>\n",
       "      <td>1.000000</td>\n",
       "      <td>1.000000</td>\n",
       "      <td>...</td>\n",
       "      <td>1900.000000</td>\n",
       "      <td>0.000000</td>\n",
       "      <td>98001.000000</td>\n",
       "      <td>47.155900</td>\n",
       "      <td>-122.519000</td>\n",
       "      <td>399.000000</td>\n",
       "      <td>651.000000</td>\n",
       "      <td>2014.000000</td>\n",
       "      <td>1.000000</td>\n",
       "      <td>1.000000</td>\n",
       "    </tr>\n",
       "    <tr>\n",
       "      <th>25%</th>\n",
       "      <td>3.200000e+05</td>\n",
       "      <td>3.000000</td>\n",
       "      <td>1.500000</td>\n",
       "      <td>1420.000000</td>\n",
       "      <td>5.026000e+03</td>\n",
       "      <td>1.000000</td>\n",
       "      <td>0.000000</td>\n",
       "      <td>0.000000</td>\n",
       "      <td>3.000000</td>\n",
       "      <td>7.000000</td>\n",
       "      <td>...</td>\n",
       "      <td>1951.000000</td>\n",
       "      <td>0.000000</td>\n",
       "      <td>98033.000000</td>\n",
       "      <td>47.469100</td>\n",
       "      <td>-122.329000</td>\n",
       "      <td>1480.000000</td>\n",
       "      <td>5100.000000</td>\n",
       "      <td>2014.000000</td>\n",
       "      <td>4.000000</td>\n",
       "      <td>8.000000</td>\n",
       "    </tr>\n",
       "    <tr>\n",
       "      <th>50%</th>\n",
       "      <td>4.500000e+05</td>\n",
       "      <td>3.000000</td>\n",
       "      <td>2.250000</td>\n",
       "      <td>1900.000000</td>\n",
       "      <td>7.576000e+03</td>\n",
       "      <td>1.500000</td>\n",
       "      <td>0.000000</td>\n",
       "      <td>0.000000</td>\n",
       "      <td>3.000000</td>\n",
       "      <td>7.000000</td>\n",
       "      <td>...</td>\n",
       "      <td>1975.000000</td>\n",
       "      <td>0.000000</td>\n",
       "      <td>98065.000000</td>\n",
       "      <td>47.570700</td>\n",
       "      <td>-122.230000</td>\n",
       "      <td>1830.000000</td>\n",
       "      <td>7600.000000</td>\n",
       "      <td>2014.000000</td>\n",
       "      <td>6.000000</td>\n",
       "      <td>16.000000</td>\n",
       "    </tr>\n",
       "    <tr>\n",
       "      <th>75%</th>\n",
       "      <td>6.350000e+05</td>\n",
       "      <td>4.000000</td>\n",
       "      <td>2.500000</td>\n",
       "      <td>2520.000000</td>\n",
       "      <td>1.055000e+04</td>\n",
       "      <td>2.000000</td>\n",
       "      <td>0.000000</td>\n",
       "      <td>0.000000</td>\n",
       "      <td>4.000000</td>\n",
       "      <td>8.000000</td>\n",
       "      <td>...</td>\n",
       "      <td>1997.000000</td>\n",
       "      <td>0.000000</td>\n",
       "      <td>98118.000000</td>\n",
       "      <td>47.678400</td>\n",
       "      <td>-122.124000</td>\n",
       "      <td>2340.000000</td>\n",
       "      <td>10022.000000</td>\n",
       "      <td>2015.000000</td>\n",
       "      <td>9.000000</td>\n",
       "      <td>23.000000</td>\n",
       "    </tr>\n",
       "    <tr>\n",
       "      <th>max</th>\n",
       "      <td>1.965000e+06</td>\n",
       "      <td>33.000000</td>\n",
       "      <td>7.500000</td>\n",
       "      <td>7730.000000</td>\n",
       "      <td>1.651359e+06</td>\n",
       "      <td>3.500000</td>\n",
       "      <td>1.000000</td>\n",
       "      <td>4.000000</td>\n",
       "      <td>5.000000</td>\n",
       "      <td>13.000000</td>\n",
       "      <td>...</td>\n",
       "      <td>2015.000000</td>\n",
       "      <td>2015.000000</td>\n",
       "      <td>98199.000000</td>\n",
       "      <td>47.777600</td>\n",
       "      <td>-121.315000</td>\n",
       "      <td>5790.000000</td>\n",
       "      <td>871200.000000</td>\n",
       "      <td>2015.000000</td>\n",
       "      <td>12.000000</td>\n",
       "      <td>31.000000</td>\n",
       "    </tr>\n",
       "  </tbody>\n",
       "</table>\n",
       "<p>8 rows × 22 columns</p>\n",
       "</div>"
      ],
      "text/plain": [
       "              price      bedrooms     bathrooms   sqft_living      sqft_lot  \\\n",
       "count  2.139700e+04  21397.000000  21397.000000  21397.000000  2.139700e+04   \n",
       "mean   5.181830e+05      3.360985      2.097537   2050.579707  1.499318e+04   \n",
       "std    2.847527e+05      0.923908      0.746989    861.483593  4.097853e+04   \n",
       "min    7.500000e+04      0.000000      0.000000    290.000000  5.200000e+02   \n",
       "25%    3.200000e+05      3.000000      1.500000   1420.000000  5.026000e+03   \n",
       "50%    4.500000e+05      3.000000      2.250000   1900.000000  7.576000e+03   \n",
       "75%    6.350000e+05      4.000000      2.500000   2520.000000  1.055000e+04   \n",
       "max    1.965000e+06     33.000000      7.500000   7730.000000  1.651359e+06   \n",
       "\n",
       "             floors    waterfront          view     condition         grade  \\\n",
       "count  21397.000000  21397.000000  21397.000000  21397.000000  21397.000000   \n",
       "mean       1.490513      0.005328      0.216385      3.408282      7.626303   \n",
       "std        0.539242      0.072799      0.729494      0.649548      1.135392   \n",
       "min        1.000000      0.000000      0.000000      1.000000      1.000000   \n",
       "25%        1.000000      0.000000      0.000000      3.000000      7.000000   \n",
       "50%        1.500000      0.000000      0.000000      3.000000      7.000000   \n",
       "75%        2.000000      0.000000      0.000000      4.000000      8.000000   \n",
       "max        3.500000      1.000000      4.000000      5.000000     13.000000   \n",
       "\n",
       "       ...      yr_built  yr_renovated       zipcode           lat  \\\n",
       "count  ...  21397.000000  21397.000000  21397.000000  21397.000000   \n",
       "mean   ...   1970.988316     82.267748  98078.079871     47.559461   \n",
       "std    ...     29.307017    396.784910     53.471510      0.139047   \n",
       "min    ...   1900.000000      0.000000  98001.000000     47.155900   \n",
       "25%    ...   1951.000000      0.000000  98033.000000     47.469100   \n",
       "50%    ...   1975.000000      0.000000  98065.000000     47.570700   \n",
       "75%    ...   1997.000000      0.000000  98118.000000     47.678400   \n",
       "max    ...   2015.000000   2015.000000  98199.000000     47.777600   \n",
       "\n",
       "               long  sqft_living15     sqft_lot15          year         month  \\\n",
       "count  21397.000000   21397.000000   21397.000000  21397.000000  21397.000000   \n",
       "mean    -122.213655    1971.626677   12696.738842   2014.322896      6.575221   \n",
       "std        0.141223     668.086144   27203.128770      0.467594      3.116020   \n",
       "min     -122.519000     399.000000     651.000000   2014.000000      1.000000   \n",
       "25%     -122.329000    1480.000000    5100.000000   2014.000000      4.000000   \n",
       "50%     -122.230000    1830.000000    7600.000000   2014.000000      6.000000   \n",
       "75%     -122.124000    2340.000000   10022.000000   2015.000000      9.000000   \n",
       "max     -121.315000    5790.000000  871200.000000   2015.000000     12.000000   \n",
       "\n",
       "                day  \n",
       "count  21397.000000  \n",
       "mean      15.693321  \n",
       "std        8.630871  \n",
       "min        1.000000  \n",
       "25%        8.000000  \n",
       "50%       16.000000  \n",
       "75%       23.000000  \n",
       "max       31.000000  \n",
       "\n",
       "[8 rows x 22 columns]"
      ]
     },
     "execution_count": 14,
     "metadata": {},
     "output_type": "execute_result"
    }
   ],
   "source": [
    "df.describe()"
   ]
  },
  {
   "cell_type": "markdown",
   "id": "disturbed-climb",
   "metadata": {
    "papermill": {
     "duration": 0.056024,
     "end_time": "2022-02-10T16:50:18.403773",
     "exception": false,
     "start_time": "2022-02-10T16:50:18.347749",
     "status": "completed"
    },
    "tags": []
   },
   "source": [
    "Changes in mean price and number of rows appear after some data is removed."
   ]
  },
  {
   "cell_type": "markdown",
   "id": "difficult-junction",
   "metadata": {
    "papermill": {
     "duration": 0.055882,
     "end_time": "2022-02-10T16:50:18.515994",
     "exception": false,
     "start_time": "2022-02-10T16:50:18.460112",
     "status": "completed"
    },
    "tags": []
   },
   "source": [
    "Data preparation is done, let's move on to creating the models."
   ]
  },
  {
   "cell_type": "markdown",
   "id": "devoted-warren",
   "metadata": {
    "papermill": {
     "duration": 0.056053,
     "end_time": "2022-02-10T16:50:18.628861",
     "exception": false,
     "start_time": "2022-02-10T16:50:18.572808",
     "status": "completed"
    },
    "tags": []
   },
   "source": [
    "<a id = \"3\"></a><br>\n",
    "# Creating Models"
   ]
  },
  {
   "cell_type": "code",
   "execution_count": 15,
   "id": "psychological-immunology",
   "metadata": {
    "execution": {
     "iopub.execute_input": "2022-02-10T16:50:18.749600Z",
     "iopub.status.busy": "2022-02-10T16:50:18.748892Z",
     "iopub.status.idle": "2022-02-10T16:50:18.755374Z",
     "shell.execute_reply": "2022-02-10T16:50:18.754829Z",
     "shell.execute_reply.started": "2021-06-23T16:36:24.766383Z"
    },
    "papermill": {
     "duration": 0.070249,
     "end_time": "2022-02-10T16:50:18.755522",
     "exception": false,
     "start_time": "2022-02-10T16:50:18.685273",
     "status": "completed"
    },
    "tags": []
   },
   "outputs": [],
   "source": [
    "# Creating X and Y (features and labels)\n",
    "x = df.iloc[:,1:]\n",
    "y = df.iloc[:,0:1]\n",
    "X = x.values\n",
    "Y = y.values"
   ]
  },
  {
   "cell_type": "code",
   "execution_count": 16,
   "id": "armed-treasure",
   "metadata": {
    "execution": {
     "iopub.execute_input": "2022-02-10T16:50:18.873719Z",
     "iopub.status.busy": "2022-02-10T16:50:18.873038Z",
     "iopub.status.idle": "2022-02-10T16:50:18.980273Z",
     "shell.execute_reply": "2022-02-10T16:50:18.979090Z",
     "shell.execute_reply.started": "2021-06-23T16:36:24.77941Z"
    },
    "papermill": {
     "duration": 0.168164,
     "end_time": "2022-02-10T16:50:18.980471",
     "exception": false,
     "start_time": "2022-02-10T16:50:18.812307",
     "status": "completed"
    },
    "tags": []
   },
   "outputs": [],
   "source": [
    "from sklearn.metrics import r2_score"
   ]
  },
  {
   "cell_type": "markdown",
   "id": "finnish-facing",
   "metadata": {
    "papermill": {
     "duration": 0.057162,
     "end_time": "2022-02-10T16:50:19.094681",
     "exception": false,
     "start_time": "2022-02-10T16:50:19.037519",
     "status": "completed"
    },
    "tags": []
   },
   "source": [
    "Since I will look at the r2_score after creating each model, I imported the r2_score here, at the beginning."
   ]
  },
  {
   "cell_type": "markdown",
   "id": "tight-denmark",
   "metadata": {
    "papermill": {
     "duration": 0.057093,
     "end_time": "2022-02-10T16:50:19.209418",
     "exception": false,
     "start_time": "2022-02-10T16:50:19.152325",
     "status": "completed"
    },
    "tags": []
   },
   "source": [
    "<a id = \"4\"></a><br>\n",
    "## Linear Regression "
   ]
  },
  {
   "cell_type": "code",
   "execution_count": 17,
   "id": "effective-capital",
   "metadata": {
    "execution": {
     "iopub.execute_input": "2022-02-10T16:50:19.327976Z",
     "iopub.status.busy": "2022-02-10T16:50:19.327353Z",
     "iopub.status.idle": "2022-02-10T16:50:19.469727Z",
     "shell.execute_reply": "2022-02-10T16:50:19.470838Z",
     "shell.execute_reply.started": "2021-06-23T16:36:24.9417Z"
    },
    "papermill": {
     "duration": 0.203717,
     "end_time": "2022-02-10T16:50:19.471125",
     "exception": false,
     "start_time": "2022-02-10T16:50:19.267408",
     "status": "completed"
    },
    "tags": []
   },
   "outputs": [
    {
     "name": "stdout",
     "output_type": "stream",
     "text": [
      "R² score: 71.66289401005534\n"
     ]
    }
   ],
   "source": [
    "from sklearn.linear_model import LinearRegression\n",
    "lin_reg = LinearRegression()\n",
    "lin_reg.fit(X,Y)\n",
    "\n",
    "\n",
    "print(f'R² score: {r2_score(Y, lin_reg.predict(X))*100}')"
   ]
  },
  {
   "cell_type": "code",
   "execution_count": 18,
   "id": "circular-danger",
   "metadata": {
    "execution": {
     "iopub.execute_input": "2022-02-10T16:50:19.665275Z",
     "iopub.status.busy": "2022-02-10T16:50:19.664187Z",
     "iopub.status.idle": "2022-02-10T16:50:19.924423Z",
     "shell.execute_reply": "2022-02-10T16:50:19.923898Z",
     "shell.execute_reply.started": "2021-06-23T16:36:25.154676Z"
    },
    "papermill": {
     "duration": 0.322348,
     "end_time": "2022-02-10T16:50:19.924562",
     "exception": false,
     "start_time": "2022-02-10T16:50:19.602214",
     "status": "completed"
    },
    "tags": []
   },
   "outputs": [
    {
     "data": {
      "text/plain": [
       "[<matplotlib.lines.Line2D at 0x7f3f95491550>]"
      ]
     },
     "execution_count": 18,
     "metadata": {},
     "output_type": "execute_result"
    },
    {
     "data": {
      "image/png": "[encoded data removed]",
      "text/plain": [
       "<Figure size 432x288 with 1 Axes>"
      ]
     },
     "metadata": {
      "needs_background": "light"
     },
     "output_type": "display_data"
    }
   ],
   "source": [
    "#Linear - Regression Graph\n",
    "predictArray_lin = lin_reg.predict(X)\n",
    "plt.scatter(Y,predictArray_lin, color=\"b\")\n",
    "plt.plot(Y,Y, color=\"r\")"
   ]
  },
  {
   "cell_type": "markdown",
   "id": "imported-possession",
   "metadata": {
    "papermill": {
     "duration": 0.057751,
     "end_time": "2022-02-10T16:50:20.040953",
     "exception": false,
     "start_time": "2022-02-10T16:50:19.983202",
     "status": "completed"
    },
    "tags": []
   },
   "source": [
    "<a id = \"5\"></a><br>\n",
    "## Polynomial Regression"
   ]
  },
  {
   "cell_type": "code",
   "execution_count": 19,
   "id": "independent-bathroom",
   "metadata": {
    "execution": {
     "iopub.execute_input": "2022-02-10T16:50:20.164159Z",
     "iopub.status.busy": "2022-02-10T16:50:20.163495Z",
     "iopub.status.idle": "2022-02-10T16:50:28.143907Z",
     "shell.execute_reply": "2022-02-10T16:50:28.144979Z",
     "shell.execute_reply.started": "2021-06-23T16:36:25.480438Z"
    },
    "papermill": {
     "duration": 8.045843,
     "end_time": "2022-02-10T16:50:28.145259",
     "exception": false,
     "start_time": "2022-02-10T16:50:20.099416",
     "status": "completed"
    },
    "scrolled": true,
    "tags": []
   },
   "outputs": [
    {
     "name": "stdout",
     "output_type": "stream",
     "text": [
      "R² score: 84.35130560132897\n"
     ]
    }
   ],
   "source": [
    "from sklearn.preprocessing import PolynomialFeatures\n",
    "poly_reg = PolynomialFeatures(degree = 3)\n",
    "x_poly = poly_reg.fit_transform(X)\n",
    "lin_reg2 = LinearRegression()\n",
    "lin_reg2.fit(x_poly,y)\n",
    "\n",
    "\n",
    "print(f'R² score: {r2_score(Y, lin_reg2.predict(poly_reg.fit_transform(X)))*100}')"
   ]
  },
  {
   "cell_type": "code",
   "execution_count": 20,
   "id": "breathing-rouge",
   "metadata": {
    "execution": {
     "iopub.execute_input": "2022-02-10T16:50:28.325432Z",
     "iopub.status.busy": "2022-02-10T16:50:28.324155Z",
     "iopub.status.idle": "2022-02-10T16:50:28.911208Z",
     "shell.execute_reply": "2022-02-10T16:50:28.911686Z",
     "shell.execute_reply.started": "2021-06-23T16:36:33.97993Z"
    },
    "papermill": {
     "duration": 0.652683,
     "end_time": "2022-02-10T16:50:28.911862",
     "exception": false,
     "start_time": "2022-02-10T16:50:28.259179",
     "status": "completed"
    },
    "tags": []
   },
   "outputs": [
    {
     "data": {
      "text/plain": [
       "[<matplotlib.lines.Line2D at 0x7f3f809bc590>]"
      ]
     },
     "execution_count": 20,
     "metadata": {},
     "output_type": "execute_result"
    },
    {
     "data": {
      "image/png": "[encoded data removed]",
      "text/plain": [
       "<Figure size 432x288 with 1 Axes>"
      ]
     },
     "metadata": {
      "needs_background": "light"
     },
     "output_type": "display_data"
    }
   ],
   "source": [
    "# Polynomial - Regression Graph\n",
    "predictArray_poly = lin_reg2.predict(poly_reg.fit_transform(X)) \n",
    "plt.scatter(Y,predictArray_poly, color=\"b\")\n",
    "plt.plot(Y,Y, color=\"r\")"
   ]
  },
  {
   "cell_type": "markdown",
   "id": "canadian-scene",
   "metadata": {
    "papermill": {
     "duration": 0.059351,
     "end_time": "2022-02-10T16:50:29.031570",
     "exception": false,
     "start_time": "2022-02-10T16:50:28.972219",
     "status": "completed"
    },
    "tags": []
   },
   "source": [
    "<a id = \"6\"></a><br>\n",
    "## SVR (Support Vector Regression)"
   ]
  },
  {
   "cell_type": "markdown",
   "id": "challenging-front",
   "metadata": {
    "papermill": {
     "duration": 0.059417,
     "end_time": "2022-02-10T16:50:29.151142",
     "exception": false,
     "start_time": "2022-02-10T16:50:29.091725",
     "status": "completed"
    },
    "tags": []
   },
   "source": [
    "Unlike other models, SVR receives the data as scaled."
   ]
  },
  {
   "cell_type": "code",
   "execution_count": 21,
   "id": "municipal-cleaning",
   "metadata": {
    "execution": {
     "iopub.execute_input": "2022-02-10T16:50:29.278076Z",
     "iopub.status.busy": "2022-02-10T16:50:29.277247Z",
     "iopub.status.idle": "2022-02-10T16:50:29.294450Z",
     "shell.execute_reply": "2022-02-10T16:50:29.293371Z",
     "shell.execute_reply.started": "2021-06-23T16:36:34.64972Z"
    },
    "papermill": {
     "duration": 0.082437,
     "end_time": "2022-02-10T16:50:29.294604",
     "exception": false,
     "start_time": "2022-02-10T16:50:29.212167",
     "status": "completed"
    },
    "tags": []
   },
   "outputs": [],
   "source": [
    "#scaling the data\n",
    "\n",
    "from sklearn.preprocessing import StandardScaler\n",
    "\n",
    "sc1=StandardScaler()\n",
    "x_scaled = sc1.fit_transform(X)\n",
    "\n",
    "sc2=StandardScaler()\n",
    "y_scaled = np.ravel(sc2.fit_transform(Y.reshape(-1,1)))"
   ]
  },
  {
   "cell_type": "markdown",
   "id": "green-bumper",
   "metadata": {
    "papermill": {
     "duration": 0.059408,
     "end_time": "2022-02-10T16:50:29.414097",
     "exception": false,
     "start_time": "2022-02-10T16:50:29.354689",
     "status": "completed"
    },
    "tags": []
   },
   "source": [
    "The kernel function that will give the highest performance for this problem is 'rbf'."
   ]
  },
  {
   "cell_type": "code",
   "execution_count": 22,
   "id": "chemical-daily",
   "metadata": {
    "execution": {
     "iopub.execute_input": "2022-02-10T16:50:29.539434Z",
     "iopub.status.busy": "2022-02-10T16:50:29.538481Z",
     "iopub.status.idle": "2022-02-10T16:51:21.959100Z",
     "shell.execute_reply": "2022-02-10T16:51:21.959953Z",
     "shell.execute_reply.started": "2021-06-23T16:36:34.668932Z"
    },
    "papermill": {
     "duration": 52.486253,
     "end_time": "2022-02-10T16:51:21.960206",
     "exception": false,
     "start_time": "2022-02-10T16:50:29.473953",
     "status": "completed"
    },
    "tags": []
   },
   "outputs": [
    {
     "name": "stdout",
     "output_type": "stream",
     "text": [
      "R² score: 86.99582372374567\n"
     ]
    }
   ],
   "source": [
    "from sklearn.svm import SVR\n",
    "\n",
    "svr_reg = SVR(kernel='rbf')\n",
    "svr_reg.fit(x_scaled,y_scaled)\n",
    "\n",
    "print(f'R² score: {r2_score(y_scaled, svr_reg.predict(x_scaled))*100}')\n",
    "\n"
   ]
  },
  {
   "cell_type": "code",
   "execution_count": 23,
   "id": "extra-dragon",
   "metadata": {
    "execution": {
     "iopub.execute_input": "2022-02-10T16:51:22.089363Z",
     "iopub.status.busy": "2022-02-10T16:51:22.088684Z",
     "iopub.status.idle": "2022-02-10T16:51:45.836183Z",
     "shell.execute_reply": "2022-02-10T16:51:45.835600Z",
     "shell.execute_reply.started": "2021-06-23T16:37:27.958859Z"
    },
    "papermill": {
     "duration": 23.814942,
     "end_time": "2022-02-10T16:51:45.836350",
     "exception": false,
     "start_time": "2022-02-10T16:51:22.021408",
     "status": "completed"
    },
    "tags": []
   },
   "outputs": [
    {
     "data": {
      "text/plain": [
       "[<matplotlib.lines.Line2D at 0x7f3f808e0310>]"
      ]
     },
     "execution_count": 23,
     "metadata": {},
     "output_type": "execute_result"
    },
    {
     "data": {
      "image/png": "[encoded data removed]",
      "text/plain": [
       "<Figure size 432x288 with 1 Axes>"
      ]
     },
     "metadata": {
      "needs_background": "light"
     },
     "output_type": "display_data"
    }
   ],
   "source": [
    "#SVR - Regression Graph\n",
    "predictArray_svr = svr_reg.predict(x_scaled)\n",
    "plt.scatter(y_scaled,predictArray_svr, color=\"b\")\n",
    "plt.plot(y_scaled,y_scaled, color=\"r\") "
   ]
  },
  {
   "cell_type": "markdown",
   "id": "behind-tracy",
   "metadata": {
    "papermill": {
     "duration": 0.06258,
     "end_time": "2022-02-10T16:51:45.961625",
     "exception": false,
     "start_time": "2022-02-10T16:51:45.899045",
     "status": "completed"
    },
    "tags": []
   },
   "source": [
    "<a id = \"7\"></a><br>\n",
    "## Decision Tree "
   ]
  },
  {
   "cell_type": "code",
   "execution_count": 24,
   "id": "pacific-transport",
   "metadata": {
    "execution": {
     "iopub.execute_input": "2022-02-10T16:51:46.090214Z",
     "iopub.status.busy": "2022-02-10T16:51:46.089550Z",
     "iopub.status.idle": "2022-02-10T16:51:46.554804Z",
     "shell.execute_reply": "2022-02-10T16:51:46.555536Z",
     "shell.execute_reply.started": "2021-06-23T16:37:51.540012Z"
    },
    "papermill": {
     "duration": 0.531168,
     "end_time": "2022-02-10T16:51:46.555774",
     "exception": false,
     "start_time": "2022-02-10T16:51:46.024606",
     "status": "completed"
    },
    "tags": []
   },
   "outputs": [
    {
     "name": "stdout",
     "output_type": "stream",
     "text": [
      "R² score: 99.99999987923599\n"
     ]
    }
   ],
   "source": [
    "from sklearn.tree import DecisionTreeRegressor\n",
    "r_dt = DecisionTreeRegressor(random_state=0)\n",
    "r_dt.fit(X,Y)\n",
    "\n",
    "print(f'R² score: {r2_score(Y, r_dt.predict(X))*100}')\n"
   ]
  },
  {
   "cell_type": "code",
   "execution_count": 25,
   "id": "meaning-girlfriend",
   "metadata": {
    "execution": {
     "iopub.execute_input": "2022-02-10T16:51:46.683828Z",
     "iopub.status.busy": "2022-02-10T16:51:46.683142Z",
     "iopub.status.idle": "2022-02-10T16:51:47.052903Z",
     "shell.execute_reply": "2022-02-10T16:51:47.052320Z",
     "shell.execute_reply.started": "2021-06-23T16:37:52.184989Z"
    },
    "papermill": {
     "duration": 0.434573,
     "end_time": "2022-02-10T16:51:47.053057",
     "exception": false,
     "start_time": "2022-02-10T16:51:46.618484",
     "status": "completed"
    },
    "tags": []
   },
   "outputs": [
    {
     "data": {
      "text/plain": [
       "[<matplotlib.lines.Line2D at 0x7f3f7ef07a50>]"
      ]
     },
     "execution_count": 25,
     "metadata": {},
     "output_type": "execute_result"
    },
    {
     "data": {
      "image/png": "[encoded data removed]",
      "text/plain": [
       "<Figure size 432x288 with 1 Axes>"
      ]
     },
     "metadata": {
      "needs_background": "light"
     },
     "output_type": "display_data"
    }
   ],
   "source": [
    "#Decision Tree - Regression Graph\n",
    "predictArray_dt = r_dt.predict(X)\n",
    "plt.scatter(Y,predictArray_dt, color=\"b\")\n",
    "plt.plot(Y,Y, color=\"r\")"
   ]
  },
  {
   "cell_type": "markdown",
   "id": "human-interval",
   "metadata": {
    "papermill": {
     "duration": 0.064688,
     "end_time": "2022-02-10T16:51:47.182907",
     "exception": false,
     "start_time": "2022-02-10T16:51:47.118219",
     "status": "completed"
    },
    "tags": []
   },
   "source": [
    "<a id = \"8\"></a><br>\n",
    "## Random Forest "
   ]
  },
  {
   "cell_type": "code",
   "execution_count": 26,
   "id": "spiritual-estate",
   "metadata": {
    "execution": {
     "iopub.execute_input": "2022-02-10T16:51:47.314333Z",
     "iopub.status.busy": "2022-02-10T16:51:47.313643Z",
     "iopub.status.idle": "2022-02-10T16:51:49.580613Z",
     "shell.execute_reply": "2022-02-10T16:51:49.579855Z",
     "shell.execute_reply.started": "2021-06-23T16:37:52.433358Z"
    },
    "papermill": {
     "duration": 2.333476,
     "end_time": "2022-02-10T16:51:49.580811",
     "exception": false,
     "start_time": "2022-02-10T16:51:47.247335",
     "status": "completed"
    },
    "tags": []
   },
   "outputs": [
    {
     "name": "stdout",
     "output_type": "stream",
     "text": [
      "R² score: 97.46836948843632\n"
     ]
    }
   ],
   "source": [
    "from sklearn.ensemble import RandomForestRegressor\n",
    "rf_reg=RandomForestRegressor(n_estimators = 10,random_state=0)\n",
    "rf_reg.fit(X,Y.ravel())\n",
    "\n",
    "print(f'R² score: {r2_score(Y, rf_reg.predict(X))*100}')\n"
   ]
  },
  {
   "cell_type": "code",
   "execution_count": 27,
   "id": "former-opportunity",
   "metadata": {
    "execution": {
     "iopub.execute_input": "2022-02-10T16:51:49.713504Z",
     "iopub.status.busy": "2022-02-10T16:51:49.712813Z",
     "iopub.status.idle": "2022-02-10T16:51:49.984739Z",
     "shell.execute_reply": "2022-02-10T16:51:49.984133Z",
     "shell.execute_reply.started": "2021-06-23T16:37:54.713843Z"
    },
    "papermill": {
     "duration": 0.338672,
     "end_time": "2022-02-10T16:51:49.984882",
     "exception": false,
     "start_time": "2022-02-10T16:51:49.646210",
     "status": "completed"
    },
    "tags": []
   },
   "outputs": [
    {
     "data": {
      "text/plain": [
       "[<matplotlib.lines.Line2D at 0x7f3fb29b9410>]"
      ]
     },
     "execution_count": 27,
     "metadata": {},
     "output_type": "execute_result"
    },
    {
     "data": {
      "image/png": "[encoded data removed]",
      "text/plain": [
       "<Figure size 432x288 with 1 Axes>"
      ]
     },
     "metadata": {
      "needs_background": "light"
     },
     "output_type": "display_data"
    }
   ],
   "source": [
    "#Random Forest - Regression Graph\n",
    "predictArray_rf = rf_reg.predict(X)\n",
    "plt.scatter(Y,predictArray_rf, color=\"b\")\n",
    "plt.plot(Y,Y, color=\"r\")"
   ]
  },
  {
   "cell_type": "markdown",
   "id": "adaptive-cinema",
   "metadata": {
    "papermill": {
     "duration": 0.064868,
     "end_time": "2022-02-10T16:51:50.115117",
     "exception": false,
     "start_time": "2022-02-10T16:51:50.050249",
     "status": "completed"
    },
    "tags": []
   },
   "source": [
    "<a id = \"9\"></a><br>\n",
    "# Conclusion"
   ]
  },
  {
   "cell_type": "code",
   "execution_count": 28,
   "id": "chemical-knock",
   "metadata": {
    "execution": {
     "iopub.execute_input": "2022-02-10T16:51:50.261123Z",
     "iopub.status.busy": "2022-02-10T16:51:50.259997Z",
     "iopub.status.idle": "2022-02-10T16:52:14.382642Z",
     "shell.execute_reply": "2022-02-10T16:52:14.381827Z",
     "shell.execute_reply.started": "2021-06-23T16:37:55.013249Z"
    },
    "papermill": {
     "duration": 24.201542,
     "end_time": "2022-02-10T16:52:14.382815",
     "exception": false,
     "start_time": "2022-02-10T16:51:50.181273",
     "status": "completed"
    },
    "tags": []
   },
   "outputs": [],
   "source": [
    "#Creation of R² scores\n",
    "r2_lin = r2_score(Y, lin_reg.predict(X))*100\n",
    "r2_poly = r2_score(Y, lin_reg2.predict(poly_reg.fit_transform(X)))*100\n",
    "r2_SVR = r2_score(y_scaled, svr_reg.predict(x_scaled))*100\n",
    "r2_dt = r2_score(Y, r_dt.predict(X))*100\n",
    "r2_rf = r2_score(Y, rf_reg.predict(X))*100"
   ]
  },
  {
   "cell_type": "code",
   "execution_count": 29,
   "id": "streaming-cotton",
   "metadata": {
    "execution": {
     "iopub.execute_input": "2022-02-10T16:52:14.544597Z",
     "iopub.status.busy": "2022-02-10T16:52:14.543492Z",
     "iopub.status.idle": "2022-02-10T16:52:15.459788Z",
     "shell.execute_reply": "2022-02-10T16:52:15.460302Z",
     "shell.execute_reply.started": "2021-06-23T16:38:19.007754Z"
    },
    "papermill": {
     "duration": 1.004454,
     "end_time": "2022-02-10T16:52:15.460475",
     "exception": false,
     "start_time": "2022-02-10T16:52:14.456021",
     "status": "completed"
    },
    "tags": []
   },
   "outputs": [
    {
     "data": {
      "text/plain": [
       "Text(0.5, 1.0, 'Random Forest')"
      ]
     },
     "execution_count": 29,
     "metadata": {},
     "output_type": "execute_result"
    },
    {
     "data": {
      "image/png": "[encoded data removed]",
      "text/plain": [
       "<Figure size 1152x864 with 5 Axes>"
      ]
     },
     "metadata": {},
     "output_type": "display_data"
    }
   ],
   "source": [
    "# Regression Graphs - Subplot\n",
    "plt.figure(figsize=(16,12),facecolor='#9DF08E')\n",
    "plt.subplot(2,3,1)\n",
    "plt.scatter(Y,predictArray_lin, color='b')\n",
    "plt.plot(Y,Y, color='r')\n",
    "plt.title('Linear Reg.', color='r')\n",
    "\n",
    "plt.subplot(2,3,2)\n",
    "plt.scatter(Y,predictArray_poly, color='b')\n",
    "plt.plot(Y,Y, color='r')\n",
    "plt.title('Polynomial Reg.', color='r')\n",
    "\n",
    "plt.subplot(2,3,3)\n",
    "plt.scatter(y_scaled,predictArray_svr, color=\"b\")\n",
    "plt.plot(y_scaled,y_scaled, color=\"r\") \n",
    "plt.title('SVR Reg.', color='r')\n",
    "\n",
    "plt.subplot(2,3,4)\n",
    "plt.scatter(Y,predictArray_dt, color=\"b\")\n",
    "plt.plot(Y,Y, color='r')\n",
    "plt.title('Decision Tree', color='r')\n",
    "\n",
    "plt.subplot(2,3,5)\n",
    "plt.scatter(Y,predictArray_rf, color=\"b\")\n",
    "plt.plot(Y,Y, color='r')\n",
    "plt.title('Random Forest', color='r')"
   ]
  },
  {
   "cell_type": "code",
   "execution_count": 30,
   "id": "legendary-subcommittee",
   "metadata": {
    "execution": {
     "iopub.execute_input": "2022-02-10T16:52:15.602320Z",
     "iopub.status.busy": "2022-02-10T16:52:15.601346Z",
     "iopub.status.idle": "2022-02-10T16:52:15.609277Z",
     "shell.execute_reply": "2022-02-10T16:52:15.608682Z",
     "shell.execute_reply.started": "2021-06-23T16:38:19.997605Z"
    },
    "papermill": {
     "duration": 0.080062,
     "end_time": "2022-02-10T16:52:15.609447",
     "exception": false,
     "start_time": "2022-02-10T16:52:15.529385",
     "status": "completed"
    },
    "tags": []
   },
   "outputs": [
    {
     "name": "stdout",
     "output_type": "stream",
     "text": [
      "------------- R² SCORES OF MODELS ----------------\n",
      "\n",
      "Linear Regression R² Score     : 71.66289401005534\n",
      "Polynomial Regression R² Score : 84.35130560132897\n",
      "SVR R² Score                   : 86.99582372374567\n",
      "Decision Tree R² Score         : 99.99999987923599\n",
      "Random Forest R² Score         : 97.46836948843632\n"
     ]
    }
   ],
   "source": [
    "#Printing R² scores\n",
    "print(\"------------- R² SCORES OF MODELS ----------------\\n\")\n",
    "print(f'Linear Regression R² Score     : {r2_lin}')\n",
    "print(f'Polynomial Regression R² Score : {r2_poly}')\n",
    "print(f'SVR R² Score                   : {r2_SVR}')\n",
    "print(f'Decision Tree R² Score         : {r2_dt}')\n",
    "print(f'Random Forest R² Score         : {r2_rf}')"
   ]
  },
  {
   "cell_type": "code",
   "execution_count": 31,
   "id": "juvenile-lithuania",
   "metadata": {
    "execution": {
     "iopub.execute_input": "2022-02-10T16:52:15.753827Z",
     "iopub.status.busy": "2022-02-10T16:52:15.752792Z",
     "iopub.status.idle": "2022-02-10T16:52:15.898136Z",
     "shell.execute_reply": "2022-02-10T16:52:15.898722Z",
     "shell.execute_reply.started": "2021-06-23T16:38:20.005495Z"
    },
    "papermill": {
     "duration": 0.218934,
     "end_time": "2022-02-10T16:52:15.898902",
     "exception": false,
     "start_time": "2022-02-10T16:52:15.679968",
     "status": "completed"
    },
    "tags": []
   },
   "outputs": [
    {
     "data": {
      "image/png": "[encoded data removed]",
      "text/plain": [
       "<Figure size 432x288 with 1 Axes>"
      ]
     },
     "metadata": {
      "needs_background": "light"
     },
     "output_type": "display_data"
    }
   ],
   "source": [
    "#Bar Graph Display of R² Scores\n",
    "fig = plt.figure()\n",
    "ax = fig.add_axes([0,0,1,1])\n",
    "ax.set_title(\"Comparison of Models' R² Score\", color='r')\n",
    "ax.set_xlabel('Model Name', color='g')\n",
    "ax.set_ylabel('R² Score', color='g')\n",
    "models_names = ['Linear Reg.', 'Polynomial Reg.', 'SVR', 'Decision Tree', 'Random Forest']\n",
    "models_r2s = [r2_lin,r2_poly,r2_SVR,r2_dt,r2_rf]\n",
    "ax.bar(models_names, models_r2s,color=\"#2DC100\")\n",
    "plt.show()"
   ]
  },
  {
   "cell_type": "markdown",
   "id": "liable-receptor",
   "metadata": {
    "papermill": {
     "duration": 0.070004,
     "end_time": "2022-02-10T16:52:16.040140",
     "exception": false,
     "start_time": "2022-02-10T16:52:15.970136",
     "status": "completed"
    },
    "tags": []
   },
   "source": [
    "# Comments on the result\n",
    "Although Decision Tree has the highest R² score (99.99), I think the most successful model for regression of this dataset is 'Random Forest'. However, the Decision Tree algorithm is an algorithm whose origin is classification, and when Decision Tree is used in regression, it cannot predict the values between data points, it only estimates the values in the dataset.. In addition to these reasons, if we also take into account the mathematical expressions in the formulation of the R² Score, why is the Decision Tree's score so high (99.99%), so this can explain why the score is so high.\n",
    "\n",
    "Also, The variable that affects the price the most is 'sqft_living' with +0.70 correlation value.\n"
   ]
  },
  {
   "cell_type": "markdown",
   "id": "extensive-japan",
   "metadata": {
    "papermill": {
     "duration": 0.069998,
     "end_time": "2022-02-10T16:52:16.181327",
     "exception": false,
     "start_time": "2022-02-10T16:52:16.111329",
     "status": "completed"
    },
    "tags": []
   },
   "source": [
    "<a id = \"10\"></a><br>\n",
    "# A Little Note"
   ]
  },
  {
   "cell_type": "markdown",
   "id": "built-reservation",
   "metadata": {
    "papermill": {
     "duration": 0.07089,
     "end_time": "2022-02-10T16:52:16.324109",
     "exception": false,
     "start_time": "2022-02-10T16:52:16.253219",
     "status": "completed"
    },
    "tags": []
   },
   "source": [
    "<h1 style=\"background-color:#10DEFF\n",
    ";font-family:Comic Sans MS;font-size:225%;text-align:center;border-radius: 15px 50px;\"> 📊 Thank you all for reading. If you like it, upvote please and leave feedback. It would really help me to learn new things and develop my skills. 😃 </h1><a id=note></a>"
   ]
  }
 ],
 "metadata": {
  "kernelspec": {
   "display_name": "Python 3",
   "language": "python",
   "name": "python3"
  },
  "language_info": {
   "codemirror_mode": {
    "name": "ipython",
    "version": 3
   },
   "file_extension": ".py",
   "mimetype": "text/x-python",
   "name": "python",
   "nbconvert_exporter": "python",
   "pygments_lexer": "ipython3",
   "version": "3.7.10"
  },
  "papermill": {
   "default_parameters": {},
   "duration": 136.027563,
   "end_time": "2022-02-10T16:52:18.247544",
   "environment_variables": {},
   "exception": null,
   "input_path": "__notebook__.ipynb",
   "output_path": "__notebook__.ipynb",
   "parameters": {},
   "start_time": "2022-02-10T16:50:02.219981",
   "version": "2.3.3"
  }
 },
 "nbformat": 4,
 "nbformat_minor": 5
}
